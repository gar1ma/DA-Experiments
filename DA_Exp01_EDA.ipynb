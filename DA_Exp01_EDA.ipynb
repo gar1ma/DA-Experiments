{
  "nbformat": 4,
  "nbformat_minor": 0,
  "metadata": {
    "colab": {
      "name": "DA_Exp01_EDA.ipynb",
      "provenance": [],
      "collapsed_sections": [],
      "authorship_tag": "ABX9TyP9QrvgkmVOBrele1oBD9Ym",
      "include_colab_link": true
    },
    "kernelspec": {
      "name": "python3",
      "display_name": "Python 3"
    },
    "language_info": {
      "name": "python"
    }
  },
  "cells": [
    {
      "cell_type": "markdown",
      "metadata": {
        "id": "view-in-github",
        "colab_type": "text"
      },
      "source": [
        "<a href=\"https://colab.research.google.com/github/gar1ma/DA-Experiments/blob/main/DA_Exp01_EDA.ipynb\" target=\"_parent\"><img src=\"https://colab.research.google.com/assets/colab-badge.svg\" alt=\"Open In Colab\"/></a>"
      ]
    },
    {
      "cell_type": "markdown",
      "source": [
        "Objective:\n",
        "\n",
        "Perform EDA such as number of data samples, number of features, number of classes, number of data samples per class, removing missing values, conversion to numbers, using seaborn library to plot different graphs.\n",
        "\n",
        "Dataset taken of World Hapiness Report 2021"
      ],
      "metadata": {
        "id": "UoWdM7fYadZG"
      }
    },
    {
      "cell_type": "code",
      "execution_count": null,
      "metadata": {
        "id": "tJqCKmWxKkcE"
      },
      "outputs": [],
      "source": [
        "# Importing required libraries.\n",
        "import pandas as pd\n",
        "import numpy as np\n",
        "import seaborn as sns #using seaborn library for visualisation\n",
        "import matplotlib.pyplot as plt #visualisation\n",
        "%matplotlib inline \n",
        "sns.set(color_codes=True)\n"
      ]
    },
    {
      "cell_type": "code",
      "source": [
        "df = pd.read_csv(\"dataforlab.csv\") #reading the data\n",
        "df.head(5) # To display the top 5 rows "
      ],
      "metadata": {
        "colab": {
          "base_uri": "https://localhost:8080/",
          "height": 444
        },
        "id": "GV4hU_RyO0jy",
        "outputId": "80d397be-691d-42c5-f87e-9ddf20b482e6"
      },
      "execution_count": null,
      "outputs": [
        {
          "output_type": "execute_result",
          "data": {
            "text/html": [
              "\n",
              "  <div id=\"df-6e61cd81-2e1e-4f50-912e-4ef2e18bdb0e\">\n",
              "    <div class=\"colab-df-container\">\n",
              "      <div>\n",
              "<style scoped>\n",
              "    .dataframe tbody tr th:only-of-type {\n",
              "        vertical-align: middle;\n",
              "    }\n",
              "\n",
              "    .dataframe tbody tr th {\n",
              "        vertical-align: top;\n",
              "    }\n",
              "\n",
              "    .dataframe thead th {\n",
              "        text-align: right;\n",
              "    }\n",
              "</style>\n",
              "<table border=\"1\" class=\"dataframe\">\n",
              "  <thead>\n",
              "    <tr style=\"text-align: right;\">\n",
              "      <th></th>\n",
              "      <th>Country name</th>\n",
              "      <th>Regional indicator</th>\n",
              "      <th>Ladder score</th>\n",
              "      <th>Standard error of ladder score</th>\n",
              "      <th>upperwhisker</th>\n",
              "      <th>lowerwhisker</th>\n",
              "      <th>Logged GDP per capita</th>\n",
              "      <th>Social support</th>\n",
              "      <th>Healthy life expectancy</th>\n",
              "      <th>Freedom to make life choices</th>\n",
              "      <th>Generosity</th>\n",
              "      <th>Perceptions of corruption</th>\n",
              "      <th>Ladder score in Dystopia</th>\n",
              "      <th>Explained by: Log GDP per capita</th>\n",
              "      <th>Explained by: Social support</th>\n",
              "      <th>Explained by: Healthy life expectancy</th>\n",
              "      <th>Explained by: Freedom to make life choices</th>\n",
              "      <th>Explained by: Generosity</th>\n",
              "      <th>Explained by: Perceptions of corruption</th>\n",
              "      <th>Dystopia + residual</th>\n",
              "    </tr>\n",
              "  </thead>\n",
              "  <tbody>\n",
              "    <tr>\n",
              "      <th>0</th>\n",
              "      <td>Finland</td>\n",
              "      <td>Western Europe</td>\n",
              "      <td>7.842</td>\n",
              "      <td>0.032</td>\n",
              "      <td>7.904</td>\n",
              "      <td>7.780</td>\n",
              "      <td>10.775</td>\n",
              "      <td>0.954</td>\n",
              "      <td>72.0</td>\n",
              "      <td>0.949</td>\n",
              "      <td>-0.098</td>\n",
              "      <td>0.186</td>\n",
              "      <td>2.43</td>\n",
              "      <td>1.446</td>\n",
              "      <td>1.106</td>\n",
              "      <td>0.741</td>\n",
              "      <td>0.691</td>\n",
              "      <td>0.124</td>\n",
              "      <td>0.481</td>\n",
              "      <td>3.253</td>\n",
              "    </tr>\n",
              "    <tr>\n",
              "      <th>1</th>\n",
              "      <td>Denmark</td>\n",
              "      <td>Western Europe</td>\n",
              "      <td>7.620</td>\n",
              "      <td>0.035</td>\n",
              "      <td>7.687</td>\n",
              "      <td>7.552</td>\n",
              "      <td>10.933</td>\n",
              "      <td>0.954</td>\n",
              "      <td>72.7</td>\n",
              "      <td>0.946</td>\n",
              "      <td>0.030</td>\n",
              "      <td>0.179</td>\n",
              "      <td>2.43</td>\n",
              "      <td>1.502</td>\n",
              "      <td>1.108</td>\n",
              "      <td>0.763</td>\n",
              "      <td>0.686</td>\n",
              "      <td>0.208</td>\n",
              "      <td>0.485</td>\n",
              "      <td>2.868</td>\n",
              "    </tr>\n",
              "    <tr>\n",
              "      <th>2</th>\n",
              "      <td>Switzerland</td>\n",
              "      <td>Western Europe</td>\n",
              "      <td>7.571</td>\n",
              "      <td>0.036</td>\n",
              "      <td>7.643</td>\n",
              "      <td>7.500</td>\n",
              "      <td>11.117</td>\n",
              "      <td>0.942</td>\n",
              "      <td>74.4</td>\n",
              "      <td>0.919</td>\n",
              "      <td>0.025</td>\n",
              "      <td>0.292</td>\n",
              "      <td>2.43</td>\n",
              "      <td>1.566</td>\n",
              "      <td>1.079</td>\n",
              "      <td>0.816</td>\n",
              "      <td>0.653</td>\n",
              "      <td>0.204</td>\n",
              "      <td>0.413</td>\n",
              "      <td>2.839</td>\n",
              "    </tr>\n",
              "    <tr>\n",
              "      <th>3</th>\n",
              "      <td>Iceland</td>\n",
              "      <td>Western Europe</td>\n",
              "      <td>7.554</td>\n",
              "      <td>0.059</td>\n",
              "      <td>7.670</td>\n",
              "      <td>7.438</td>\n",
              "      <td>10.878</td>\n",
              "      <td>0.983</td>\n",
              "      <td>73.0</td>\n",
              "      <td>0.955</td>\n",
              "      <td>0.160</td>\n",
              "      <td>0.673</td>\n",
              "      <td>2.43</td>\n",
              "      <td>1.482</td>\n",
              "      <td>1.172</td>\n",
              "      <td>0.772</td>\n",
              "      <td>0.698</td>\n",
              "      <td>0.293</td>\n",
              "      <td>0.170</td>\n",
              "      <td>2.967</td>\n",
              "    </tr>\n",
              "    <tr>\n",
              "      <th>4</th>\n",
              "      <td>Netherlands</td>\n",
              "      <td>Western Europe</td>\n",
              "      <td>7.464</td>\n",
              "      <td>0.027</td>\n",
              "      <td>7.518</td>\n",
              "      <td>7.410</td>\n",
              "      <td>10.932</td>\n",
              "      <td>0.942</td>\n",
              "      <td>72.4</td>\n",
              "      <td>0.913</td>\n",
              "      <td>0.175</td>\n",
              "      <td>0.338</td>\n",
              "      <td>2.43</td>\n",
              "      <td>1.501</td>\n",
              "      <td>1.079</td>\n",
              "      <td>0.753</td>\n",
              "      <td>0.647</td>\n",
              "      <td>0.302</td>\n",
              "      <td>0.384</td>\n",
              "      <td>2.798</td>\n",
              "    </tr>\n",
              "  </tbody>\n",
              "</table>\n",
              "</div>\n",
              "      <button class=\"colab-df-convert\" onclick=\"convertToInteractive('df-6e61cd81-2e1e-4f50-912e-4ef2e18bdb0e')\"\n",
              "              title=\"Convert this dataframe to an interactive table.\"\n",
              "              style=\"display:none;\">\n",
              "        \n",
              "  <svg xmlns=\"http://www.w3.org/2000/svg\" height=\"24px\"viewBox=\"0 0 24 24\"\n",
              "       width=\"24px\">\n",
              "    <path d=\"M0 0h24v24H0V0z\" fill=\"none\"/>\n",
              "    <path d=\"M18.56 5.44l.94 2.06.94-2.06 2.06-.94-2.06-.94-.94-2.06-.94 2.06-2.06.94zm-11 1L8.5 8.5l.94-2.06 2.06-.94-2.06-.94L8.5 2.5l-.94 2.06-2.06.94zm10 10l.94 2.06.94-2.06 2.06-.94-2.06-.94-.94-2.06-.94 2.06-2.06.94z\"/><path d=\"M17.41 7.96l-1.37-1.37c-.4-.4-.92-.59-1.43-.59-.52 0-1.04.2-1.43.59L10.3 9.45l-7.72 7.72c-.78.78-.78 2.05 0 2.83L4 21.41c.39.39.9.59 1.41.59.51 0 1.02-.2 1.41-.59l7.78-7.78 2.81-2.81c.8-.78.8-2.07 0-2.86zM5.41 20L4 18.59l7.72-7.72 1.47 1.35L5.41 20z\"/>\n",
              "  </svg>\n",
              "      </button>\n",
              "      \n",
              "  <style>\n",
              "    .colab-df-container {\n",
              "      display:flex;\n",
              "      flex-wrap:wrap;\n",
              "      gap: 12px;\n",
              "    }\n",
              "\n",
              "    .colab-df-convert {\n",
              "      background-color: #E8F0FE;\n",
              "      border: none;\n",
              "      border-radius: 50%;\n",
              "      cursor: pointer;\n",
              "      display: none;\n",
              "      fill: #1967D2;\n",
              "      height: 32px;\n",
              "      padding: 0 0 0 0;\n",
              "      width: 32px;\n",
              "    }\n",
              "\n",
              "    .colab-df-convert:hover {\n",
              "      background-color: #E2EBFA;\n",
              "      box-shadow: 0px 1px 2px rgba(60, 64, 67, 0.3), 0px 1px 3px 1px rgba(60, 64, 67, 0.15);\n",
              "      fill: #174EA6;\n",
              "    }\n",
              "\n",
              "    [theme=dark] .colab-df-convert {\n",
              "      background-color: #3B4455;\n",
              "      fill: #D2E3FC;\n",
              "    }\n",
              "\n",
              "    [theme=dark] .colab-df-convert:hover {\n",
              "      background-color: #434B5C;\n",
              "      box-shadow: 0px 1px 3px 1px rgba(0, 0, 0, 0.15);\n",
              "      filter: drop-shadow(0px 1px 2px rgba(0, 0, 0, 0.3));\n",
              "      fill: #FFFFFF;\n",
              "    }\n",
              "  </style>\n",
              "\n",
              "      <script>\n",
              "        const buttonEl =\n",
              "          document.querySelector('#df-6e61cd81-2e1e-4f50-912e-4ef2e18bdb0e button.colab-df-convert');\n",
              "        buttonEl.style.display =\n",
              "          google.colab.kernel.accessAllowed ? 'block' : 'none';\n",
              "\n",
              "        async function convertToInteractive(key) {\n",
              "          const element = document.querySelector('#df-6e61cd81-2e1e-4f50-912e-4ef2e18bdb0e');\n",
              "          const dataTable =\n",
              "            await google.colab.kernel.invokeFunction('convertToInteractive',\n",
              "                                                     [key], {});\n",
              "          if (!dataTable) return;\n",
              "\n",
              "          const docLinkHtml = 'Like what you see? Visit the ' +\n",
              "            '<a target=\"_blank\" href=https://colab.research.google.com/notebooks/data_table.ipynb>data table notebook</a>'\n",
              "            + ' to learn more about interactive tables.';\n",
              "          element.innerHTML = '';\n",
              "          dataTable['output_type'] = 'display_data';\n",
              "          await google.colab.output.renderOutput(dataTable, element);\n",
              "          const docLink = document.createElement('div');\n",
              "          docLink.innerHTML = docLinkHtml;\n",
              "          element.appendChild(docLink);\n",
              "        }\n",
              "      </script>\n",
              "    </div>\n",
              "  </div>\n",
              "  "
            ],
            "text/plain": [
              "  Country name  ... Dystopia + residual\n",
              "0      Finland  ...               3.253\n",
              "1      Denmark  ...               2.868\n",
              "2  Switzerland  ...               2.839\n",
              "3      Iceland  ...               2.967\n",
              "4  Netherlands  ...               2.798\n",
              "\n",
              "[5 rows x 20 columns]"
            ]
          },
          "metadata": {},
          "execution_count": 177
        }
      ]
    },
    {
      "cell_type": "code",
      "source": [
        "df.tail(3) #to display the bottom three rows"
      ],
      "metadata": {
        "colab": {
          "base_uri": "https://localhost:8080/",
          "height": 364
        },
        "id": "hE356l_4Pjee",
        "outputId": "838bc0c7-d9ac-4b7f-aa89-c8ed47cab499"
      },
      "execution_count": null,
      "outputs": [
        {
          "output_type": "execute_result",
          "data": {
            "text/html": [
              "\n",
              "  <div id=\"df-d23dda3e-63d9-4148-826e-60a09617c197\">\n",
              "    <div class=\"colab-df-container\">\n",
              "      <div>\n",
              "<style scoped>\n",
              "    .dataframe tbody tr th:only-of-type {\n",
              "        vertical-align: middle;\n",
              "    }\n",
              "\n",
              "    .dataframe tbody tr th {\n",
              "        vertical-align: top;\n",
              "    }\n",
              "\n",
              "    .dataframe thead th {\n",
              "        text-align: right;\n",
              "    }\n",
              "</style>\n",
              "<table border=\"1\" class=\"dataframe\">\n",
              "  <thead>\n",
              "    <tr style=\"text-align: right;\">\n",
              "      <th></th>\n",
              "      <th>Country name</th>\n",
              "      <th>Regional indicator</th>\n",
              "      <th>Ladder score</th>\n",
              "      <th>Standard error of ladder score</th>\n",
              "      <th>upperwhisker</th>\n",
              "      <th>lowerwhisker</th>\n",
              "      <th>Logged GDP per capita</th>\n",
              "      <th>Social support</th>\n",
              "      <th>Healthy life expectancy</th>\n",
              "      <th>Freedom to make life choices</th>\n",
              "      <th>Generosity</th>\n",
              "      <th>Perceptions of corruption</th>\n",
              "      <th>Ladder score in Dystopia</th>\n",
              "      <th>Explained by: Log GDP per capita</th>\n",
              "      <th>Explained by: Social support</th>\n",
              "      <th>Explained by: Healthy life expectancy</th>\n",
              "      <th>Explained by: Freedom to make life choices</th>\n",
              "      <th>Explained by: Generosity</th>\n",
              "      <th>Explained by: Perceptions of corruption</th>\n",
              "      <th>Dystopia + residual</th>\n",
              "    </tr>\n",
              "  </thead>\n",
              "  <tbody>\n",
              "    <tr>\n",
              "      <th>146</th>\n",
              "      <td>Rwanda</td>\n",
              "      <td>Sub-Saharan Africa</td>\n",
              "      <td>3.415</td>\n",
              "      <td>0.068</td>\n",
              "      <td>3.548</td>\n",
              "      <td>3.282</td>\n",
              "      <td>7.676</td>\n",
              "      <td>0.552</td>\n",
              "      <td>61.400</td>\n",
              "      <td>0.897</td>\n",
              "      <td>0.061</td>\n",
              "      <td>0.167</td>\n",
              "      <td>2.43</td>\n",
              "      <td>0.364</td>\n",
              "      <td>0.202</td>\n",
              "      <td>0.407</td>\n",
              "      <td>0.627</td>\n",
              "      <td>0.227</td>\n",
              "      <td>0.493</td>\n",
              "      <td>1.095</td>\n",
              "    </tr>\n",
              "    <tr>\n",
              "      <th>147</th>\n",
              "      <td>Zimbabwe</td>\n",
              "      <td>Sub-Saharan Africa</td>\n",
              "      <td>3.145</td>\n",
              "      <td>0.058</td>\n",
              "      <td>3.259</td>\n",
              "      <td>3.030</td>\n",
              "      <td>7.943</td>\n",
              "      <td>0.750</td>\n",
              "      <td>56.201</td>\n",
              "      <td>0.677</td>\n",
              "      <td>-0.047</td>\n",
              "      <td>0.821</td>\n",
              "      <td>2.43</td>\n",
              "      <td>0.457</td>\n",
              "      <td>0.649</td>\n",
              "      <td>0.243</td>\n",
              "      <td>0.359</td>\n",
              "      <td>0.157</td>\n",
              "      <td>0.075</td>\n",
              "      <td>1.205</td>\n",
              "    </tr>\n",
              "    <tr>\n",
              "      <th>148</th>\n",
              "      <td>Afghanistan</td>\n",
              "      <td>South Asia</td>\n",
              "      <td>2.523</td>\n",
              "      <td>0.038</td>\n",
              "      <td>2.596</td>\n",
              "      <td>2.449</td>\n",
              "      <td>7.695</td>\n",
              "      <td>0.463</td>\n",
              "      <td>52.493</td>\n",
              "      <td>0.382</td>\n",
              "      <td>-0.102</td>\n",
              "      <td>0.924</td>\n",
              "      <td>2.43</td>\n",
              "      <td>0.370</td>\n",
              "      <td>0.000</td>\n",
              "      <td>0.126</td>\n",
              "      <td>0.000</td>\n",
              "      <td>0.122</td>\n",
              "      <td>0.010</td>\n",
              "      <td>1.895</td>\n",
              "    </tr>\n",
              "  </tbody>\n",
              "</table>\n",
              "</div>\n",
              "      <button class=\"colab-df-convert\" onclick=\"convertToInteractive('df-d23dda3e-63d9-4148-826e-60a09617c197')\"\n",
              "              title=\"Convert this dataframe to an interactive table.\"\n",
              "              style=\"display:none;\">\n",
              "        \n",
              "  <svg xmlns=\"http://www.w3.org/2000/svg\" height=\"24px\"viewBox=\"0 0 24 24\"\n",
              "       width=\"24px\">\n",
              "    <path d=\"M0 0h24v24H0V0z\" fill=\"none\"/>\n",
              "    <path d=\"M18.56 5.44l.94 2.06.94-2.06 2.06-.94-2.06-.94-.94-2.06-.94 2.06-2.06.94zm-11 1L8.5 8.5l.94-2.06 2.06-.94-2.06-.94L8.5 2.5l-.94 2.06-2.06.94zm10 10l.94 2.06.94-2.06 2.06-.94-2.06-.94-.94-2.06-.94 2.06-2.06.94z\"/><path d=\"M17.41 7.96l-1.37-1.37c-.4-.4-.92-.59-1.43-.59-.52 0-1.04.2-1.43.59L10.3 9.45l-7.72 7.72c-.78.78-.78 2.05 0 2.83L4 21.41c.39.39.9.59 1.41.59.51 0 1.02-.2 1.41-.59l7.78-7.78 2.81-2.81c.8-.78.8-2.07 0-2.86zM5.41 20L4 18.59l7.72-7.72 1.47 1.35L5.41 20z\"/>\n",
              "  </svg>\n",
              "      </button>\n",
              "      \n",
              "  <style>\n",
              "    .colab-df-container {\n",
              "      display:flex;\n",
              "      flex-wrap:wrap;\n",
              "      gap: 12px;\n",
              "    }\n",
              "\n",
              "    .colab-df-convert {\n",
              "      background-color: #E8F0FE;\n",
              "      border: none;\n",
              "      border-radius: 50%;\n",
              "      cursor: pointer;\n",
              "      display: none;\n",
              "      fill: #1967D2;\n",
              "      height: 32px;\n",
              "      padding: 0 0 0 0;\n",
              "      width: 32px;\n",
              "    }\n",
              "\n",
              "    .colab-df-convert:hover {\n",
              "      background-color: #E2EBFA;\n",
              "      box-shadow: 0px 1px 2px rgba(60, 64, 67, 0.3), 0px 1px 3px 1px rgba(60, 64, 67, 0.15);\n",
              "      fill: #174EA6;\n",
              "    }\n",
              "\n",
              "    [theme=dark] .colab-df-convert {\n",
              "      background-color: #3B4455;\n",
              "      fill: #D2E3FC;\n",
              "    }\n",
              "\n",
              "    [theme=dark] .colab-df-convert:hover {\n",
              "      background-color: #434B5C;\n",
              "      box-shadow: 0px 1px 3px 1px rgba(0, 0, 0, 0.15);\n",
              "      filter: drop-shadow(0px 1px 2px rgba(0, 0, 0, 0.3));\n",
              "      fill: #FFFFFF;\n",
              "    }\n",
              "  </style>\n",
              "\n",
              "      <script>\n",
              "        const buttonEl =\n",
              "          document.querySelector('#df-d23dda3e-63d9-4148-826e-60a09617c197 button.colab-df-convert');\n",
              "        buttonEl.style.display =\n",
              "          google.colab.kernel.accessAllowed ? 'block' : 'none';\n",
              "\n",
              "        async function convertToInteractive(key) {\n",
              "          const element = document.querySelector('#df-d23dda3e-63d9-4148-826e-60a09617c197');\n",
              "          const dataTable =\n",
              "            await google.colab.kernel.invokeFunction('convertToInteractive',\n",
              "                                                     [key], {});\n",
              "          if (!dataTable) return;\n",
              "\n",
              "          const docLinkHtml = 'Like what you see? Visit the ' +\n",
              "            '<a target=\"_blank\" href=https://colab.research.google.com/notebooks/data_table.ipynb>data table notebook</a>'\n",
              "            + ' to learn more about interactive tables.';\n",
              "          element.innerHTML = '';\n",
              "          dataTable['output_type'] = 'display_data';\n",
              "          await google.colab.output.renderOutput(dataTable, element);\n",
              "          const docLink = document.createElement('div');\n",
              "          docLink.innerHTML = docLinkHtml;\n",
              "          element.appendChild(docLink);\n",
              "        }\n",
              "      </script>\n",
              "    </div>\n",
              "  </div>\n",
              "  "
            ],
            "text/plain": [
              "    Country name  ... Dystopia + residual\n",
              "146       Rwanda  ...               1.095\n",
              "147     Zimbabwe  ...               1.205\n",
              "148  Afghanistan  ...               1.895\n",
              "\n",
              "[3 rows x 20 columns]"
            ]
          },
          "metadata": {},
          "execution_count": 178
        }
      ]
    },
    {
      "cell_type": "code",
      "source": [
        "len(df.columns) #to get the number of features (which is basicallu no of columnsof the dataset)"
      ],
      "metadata": {
        "colab": {
          "base_uri": "https://localhost:8080/"
        },
        "id": "qqJxpgvVXMHD",
        "outputId": "7eb5427a-0176-47bb-f3ba-4cec8b651f93"
      },
      "execution_count": null,
      "outputs": [
        {
          "output_type": "execute_result",
          "data": {
            "text/plain": [
              "20"
            ]
          },
          "metadata": {},
          "execution_count": 179
        }
      ]
    },
    {
      "cell_type": "code",
      "source": [
        "len(df) #this gives us the number of samples"
      ],
      "metadata": {
        "colab": {
          "base_uri": "https://localhost:8080/"
        },
        "id": "CxhmsKdOaNGL",
        "outputId": "087af754-d602-4b1d-cce4-b401ab57fe36"
      },
      "execution_count": null,
      "outputs": [
        {
          "output_type": "execute_result",
          "data": {
            "text/plain": [
              "149"
            ]
          },
          "metadata": {},
          "execution_count": 180
        }
      ]
    },
    {
      "cell_type": "code",
      "source": [
        "df.shape #to get the structure/dimension of the data"
      ],
      "metadata": {
        "colab": {
          "base_uri": "https://localhost:8080/"
        },
        "id": "0jBLMu-YQDvG",
        "outputId": "6e2d3652-af96-4bb0-896e-cda66a00858c"
      },
      "execution_count": null,
      "outputs": [
        {
          "output_type": "execute_result",
          "data": {
            "text/plain": [
              "(149, 20)"
            ]
          },
          "metadata": {},
          "execution_count": 181
        }
      ]
    },
    {
      "cell_type": "code",
      "source": [
        "df.dtypes #checking the data types"
      ],
      "metadata": {
        "id": "nlRjzuLQQ2Ft",
        "colab": {
          "base_uri": "https://localhost:8080/"
        },
        "outputId": "d65d5a5b-16e8-433d-dbf1-a09356054eb6"
      },
      "execution_count": null,
      "outputs": [
        {
          "output_type": "execute_result",
          "data": {
            "text/plain": [
              "Country name                                   object\n",
              "Regional indicator                             object\n",
              "Ladder score                                  float64\n",
              "Standard error of ladder score                float64\n",
              "upperwhisker                                  float64\n",
              "lowerwhisker                                  float64\n",
              "Logged GDP per capita                         float64\n",
              "Social support                                float64\n",
              "Healthy life expectancy                       float64\n",
              "Freedom to make life choices                  float64\n",
              "Generosity                                    float64\n",
              "Perceptions of corruption                     float64\n",
              "Ladder score in Dystopia                      float64\n",
              "Explained by: Log GDP per capita              float64\n",
              "Explained by: Social support                  float64\n",
              "Explained by: Healthy life expectancy         float64\n",
              "Explained by: Freedom to make life choices    float64\n",
              "Explained by: Generosity                      float64\n",
              "Explained by: Perceptions of corruption       float64\n",
              "Dystopia + residual                           float64\n",
              "dtype: object"
            ]
          },
          "metadata": {},
          "execution_count": 182
        }
      ]
    },
    {
      "cell_type": "code",
      "source": [
        "#number of classes, number of data samples per class"
      ],
      "metadata": {
        "id": "gv0sUwHjaEKd"
      },
      "execution_count": null,
      "outputs": []
    },
    {
      "cell_type": "code",
      "source": [
        "print(df.isnull().sum()) #to check if there are any missing or null values"
      ],
      "metadata": {
        "colab": {
          "base_uri": "https://localhost:8080/"
        },
        "id": "7xaRVkC8W7iN",
        "outputId": "e42dbb94-98f4-4535-fe85-eb10ac4c948e"
      },
      "execution_count": null,
      "outputs": [
        {
          "output_type": "stream",
          "name": "stdout",
          "text": [
            "Country name                                  0\n",
            "Regional indicator                            0\n",
            "Ladder score                                  0\n",
            "Standard error of ladder score                0\n",
            "upperwhisker                                  0\n",
            "lowerwhisker                                  0\n",
            "Logged GDP per capita                         0\n",
            "Social support                                0\n",
            "Healthy life expectancy                       0\n",
            "Freedom to make life choices                  0\n",
            "Generosity                                    0\n",
            "Perceptions of corruption                     0\n",
            "Ladder score in Dystopia                      0\n",
            "Explained by: Log GDP per capita              0\n",
            "Explained by: Social support                  0\n",
            "Explained by: Healthy life expectancy         0\n",
            "Explained by: Freedom to make life choices    0\n",
            "Explained by: Generosity                      0\n",
            "Explained by: Perceptions of corruption       0\n",
            "Dystopia + residual                           0\n",
            "dtype: int64\n"
          ]
        }
      ]
    },
    {
      "cell_type": "code",
      "source": [
        "#renaming column\n",
        "df = df.rename(columns={\"Country name\": \"Country\",\"Ladder score\": \"Ladder_score\"})\n",
        "df.head(5)"
      ],
      "metadata": {
        "colab": {
          "base_uri": "https://localhost:8080/",
          "height": 444
        },
        "id": "xQuTwCCkgw7Z",
        "outputId": "df2279fc-8ec0-405c-9cd5-934124d2382a"
      },
      "execution_count": null,
      "outputs": [
        {
          "output_type": "execute_result",
          "data": {
            "text/html": [
              "\n",
              "  <div id=\"df-49e45ac8-580e-4dfc-9684-477edacec617\">\n",
              "    <div class=\"colab-df-container\">\n",
              "      <div>\n",
              "<style scoped>\n",
              "    .dataframe tbody tr th:only-of-type {\n",
              "        vertical-align: middle;\n",
              "    }\n",
              "\n",
              "    .dataframe tbody tr th {\n",
              "        vertical-align: top;\n",
              "    }\n",
              "\n",
              "    .dataframe thead th {\n",
              "        text-align: right;\n",
              "    }\n",
              "</style>\n",
              "<table border=\"1\" class=\"dataframe\">\n",
              "  <thead>\n",
              "    <tr style=\"text-align: right;\">\n",
              "      <th></th>\n",
              "      <th>Country</th>\n",
              "      <th>Regional indicator</th>\n",
              "      <th>Ladder_score</th>\n",
              "      <th>Standard error of ladder score</th>\n",
              "      <th>upperwhisker</th>\n",
              "      <th>lowerwhisker</th>\n",
              "      <th>Logged GDP per capita</th>\n",
              "      <th>Social support</th>\n",
              "      <th>Healthy life expectancy</th>\n",
              "      <th>Freedom to make life choices</th>\n",
              "      <th>Generosity</th>\n",
              "      <th>Perceptions of corruption</th>\n",
              "      <th>Ladder score in Dystopia</th>\n",
              "      <th>Explained by: Log GDP per capita</th>\n",
              "      <th>Explained by: Social support</th>\n",
              "      <th>Explained by: Healthy life expectancy</th>\n",
              "      <th>Explained by: Freedom to make life choices</th>\n",
              "      <th>Explained by: Generosity</th>\n",
              "      <th>Explained by: Perceptions of corruption</th>\n",
              "      <th>Dystopia + residual</th>\n",
              "    </tr>\n",
              "  </thead>\n",
              "  <tbody>\n",
              "    <tr>\n",
              "      <th>0</th>\n",
              "      <td>Finland</td>\n",
              "      <td>Western Europe</td>\n",
              "      <td>7.842</td>\n",
              "      <td>0.032</td>\n",
              "      <td>7.904</td>\n",
              "      <td>7.780</td>\n",
              "      <td>10.775</td>\n",
              "      <td>0.954</td>\n",
              "      <td>72.0</td>\n",
              "      <td>0.949</td>\n",
              "      <td>-0.098</td>\n",
              "      <td>0.186</td>\n",
              "      <td>2.43</td>\n",
              "      <td>1.446</td>\n",
              "      <td>1.106</td>\n",
              "      <td>0.741</td>\n",
              "      <td>0.691</td>\n",
              "      <td>0.124</td>\n",
              "      <td>0.481</td>\n",
              "      <td>3.253</td>\n",
              "    </tr>\n",
              "    <tr>\n",
              "      <th>1</th>\n",
              "      <td>Denmark</td>\n",
              "      <td>Western Europe</td>\n",
              "      <td>7.620</td>\n",
              "      <td>0.035</td>\n",
              "      <td>7.687</td>\n",
              "      <td>7.552</td>\n",
              "      <td>10.933</td>\n",
              "      <td>0.954</td>\n",
              "      <td>72.7</td>\n",
              "      <td>0.946</td>\n",
              "      <td>0.030</td>\n",
              "      <td>0.179</td>\n",
              "      <td>2.43</td>\n",
              "      <td>1.502</td>\n",
              "      <td>1.108</td>\n",
              "      <td>0.763</td>\n",
              "      <td>0.686</td>\n",
              "      <td>0.208</td>\n",
              "      <td>0.485</td>\n",
              "      <td>2.868</td>\n",
              "    </tr>\n",
              "    <tr>\n",
              "      <th>2</th>\n",
              "      <td>Switzerland</td>\n",
              "      <td>Western Europe</td>\n",
              "      <td>7.571</td>\n",
              "      <td>0.036</td>\n",
              "      <td>7.643</td>\n",
              "      <td>7.500</td>\n",
              "      <td>11.117</td>\n",
              "      <td>0.942</td>\n",
              "      <td>74.4</td>\n",
              "      <td>0.919</td>\n",
              "      <td>0.025</td>\n",
              "      <td>0.292</td>\n",
              "      <td>2.43</td>\n",
              "      <td>1.566</td>\n",
              "      <td>1.079</td>\n",
              "      <td>0.816</td>\n",
              "      <td>0.653</td>\n",
              "      <td>0.204</td>\n",
              "      <td>0.413</td>\n",
              "      <td>2.839</td>\n",
              "    </tr>\n",
              "    <tr>\n",
              "      <th>3</th>\n",
              "      <td>Iceland</td>\n",
              "      <td>Western Europe</td>\n",
              "      <td>7.554</td>\n",
              "      <td>0.059</td>\n",
              "      <td>7.670</td>\n",
              "      <td>7.438</td>\n",
              "      <td>10.878</td>\n",
              "      <td>0.983</td>\n",
              "      <td>73.0</td>\n",
              "      <td>0.955</td>\n",
              "      <td>0.160</td>\n",
              "      <td>0.673</td>\n",
              "      <td>2.43</td>\n",
              "      <td>1.482</td>\n",
              "      <td>1.172</td>\n",
              "      <td>0.772</td>\n",
              "      <td>0.698</td>\n",
              "      <td>0.293</td>\n",
              "      <td>0.170</td>\n",
              "      <td>2.967</td>\n",
              "    </tr>\n",
              "    <tr>\n",
              "      <th>4</th>\n",
              "      <td>Netherlands</td>\n",
              "      <td>Western Europe</td>\n",
              "      <td>7.464</td>\n",
              "      <td>0.027</td>\n",
              "      <td>7.518</td>\n",
              "      <td>7.410</td>\n",
              "      <td>10.932</td>\n",
              "      <td>0.942</td>\n",
              "      <td>72.4</td>\n",
              "      <td>0.913</td>\n",
              "      <td>0.175</td>\n",
              "      <td>0.338</td>\n",
              "      <td>2.43</td>\n",
              "      <td>1.501</td>\n",
              "      <td>1.079</td>\n",
              "      <td>0.753</td>\n",
              "      <td>0.647</td>\n",
              "      <td>0.302</td>\n",
              "      <td>0.384</td>\n",
              "      <td>2.798</td>\n",
              "    </tr>\n",
              "  </tbody>\n",
              "</table>\n",
              "</div>\n",
              "      <button class=\"colab-df-convert\" onclick=\"convertToInteractive('df-49e45ac8-580e-4dfc-9684-477edacec617')\"\n",
              "              title=\"Convert this dataframe to an interactive table.\"\n",
              "              style=\"display:none;\">\n",
              "        \n",
              "  <svg xmlns=\"http://www.w3.org/2000/svg\" height=\"24px\"viewBox=\"0 0 24 24\"\n",
              "       width=\"24px\">\n",
              "    <path d=\"M0 0h24v24H0V0z\" fill=\"none\"/>\n",
              "    <path d=\"M18.56 5.44l.94 2.06.94-2.06 2.06-.94-2.06-.94-.94-2.06-.94 2.06-2.06.94zm-11 1L8.5 8.5l.94-2.06 2.06-.94-2.06-.94L8.5 2.5l-.94 2.06-2.06.94zm10 10l.94 2.06.94-2.06 2.06-.94-2.06-.94-.94-2.06-.94 2.06-2.06.94z\"/><path d=\"M17.41 7.96l-1.37-1.37c-.4-.4-.92-.59-1.43-.59-.52 0-1.04.2-1.43.59L10.3 9.45l-7.72 7.72c-.78.78-.78 2.05 0 2.83L4 21.41c.39.39.9.59 1.41.59.51 0 1.02-.2 1.41-.59l7.78-7.78 2.81-2.81c.8-.78.8-2.07 0-2.86zM5.41 20L4 18.59l7.72-7.72 1.47 1.35L5.41 20z\"/>\n",
              "  </svg>\n",
              "      </button>\n",
              "      \n",
              "  <style>\n",
              "    .colab-df-container {\n",
              "      display:flex;\n",
              "      flex-wrap:wrap;\n",
              "      gap: 12px;\n",
              "    }\n",
              "\n",
              "    .colab-df-convert {\n",
              "      background-color: #E8F0FE;\n",
              "      border: none;\n",
              "      border-radius: 50%;\n",
              "      cursor: pointer;\n",
              "      display: none;\n",
              "      fill: #1967D2;\n",
              "      height: 32px;\n",
              "      padding: 0 0 0 0;\n",
              "      width: 32px;\n",
              "    }\n",
              "\n",
              "    .colab-df-convert:hover {\n",
              "      background-color: #E2EBFA;\n",
              "      box-shadow: 0px 1px 2px rgba(60, 64, 67, 0.3), 0px 1px 3px 1px rgba(60, 64, 67, 0.15);\n",
              "      fill: #174EA6;\n",
              "    }\n",
              "\n",
              "    [theme=dark] .colab-df-convert {\n",
              "      background-color: #3B4455;\n",
              "      fill: #D2E3FC;\n",
              "    }\n",
              "\n",
              "    [theme=dark] .colab-df-convert:hover {\n",
              "      background-color: #434B5C;\n",
              "      box-shadow: 0px 1px 3px 1px rgba(0, 0, 0, 0.15);\n",
              "      filter: drop-shadow(0px 1px 2px rgba(0, 0, 0, 0.3));\n",
              "      fill: #FFFFFF;\n",
              "    }\n",
              "  </style>\n",
              "\n",
              "      <script>\n",
              "        const buttonEl =\n",
              "          document.querySelector('#df-49e45ac8-580e-4dfc-9684-477edacec617 button.colab-df-convert');\n",
              "        buttonEl.style.display =\n",
              "          google.colab.kernel.accessAllowed ? 'block' : 'none';\n",
              "\n",
              "        async function convertToInteractive(key) {\n",
              "          const element = document.querySelector('#df-49e45ac8-580e-4dfc-9684-477edacec617');\n",
              "          const dataTable =\n",
              "            await google.colab.kernel.invokeFunction('convertToInteractive',\n",
              "                                                     [key], {});\n",
              "          if (!dataTable) return;\n",
              "\n",
              "          const docLinkHtml = 'Like what you see? Visit the ' +\n",
              "            '<a target=\"_blank\" href=https://colab.research.google.com/notebooks/data_table.ipynb>data table notebook</a>'\n",
              "            + ' to learn more about interactive tables.';\n",
              "          element.innerHTML = '';\n",
              "          dataTable['output_type'] = 'display_data';\n",
              "          await google.colab.output.renderOutput(dataTable, element);\n",
              "          const docLink = document.createElement('div');\n",
              "          docLink.innerHTML = docLinkHtml;\n",
              "          element.appendChild(docLink);\n",
              "        }\n",
              "      </script>\n",
              "    </div>\n",
              "  </div>\n",
              "  "
            ],
            "text/plain": [
              "       Country  ... Dystopia + residual\n",
              "0      Finland  ...               3.253\n",
              "1      Denmark  ...               2.868\n",
              "2  Switzerland  ...               2.839\n",
              "3      Iceland  ...               2.967\n",
              "4  Netherlands  ...               2.798\n",
              "\n",
              "[5 rows x 20 columns]"
            ]
          },
          "metadata": {},
          "execution_count": 185
        }
      ]
    },
    {
      "cell_type": "code",
      "source": [
        "#dropping extra/irrelevant columns\n",
        "df = df.drop(['Regional indicator', 'Standard error of ladder score','Logged GDP per capita','Social support','Generosity','Perceptions of corruption','Freedom to make life choices','Healthy life expectancy','upperwhisker', 'lowerwhisker', 'Ladder score in Dystopia'], axis=1)\n",
        "df.head(5)"
      ],
      "metadata": {
        "colab": {
          "base_uri": "https://localhost:8080/",
          "height": 285
        },
        "id": "aHo6iunWR0tW",
        "outputId": "64ed0fb5-b874-4a76-8ee3-c68570b019db"
      },
      "execution_count": null,
      "outputs": [
        {
          "output_type": "execute_result",
          "data": {
            "text/html": [
              "\n",
              "  <div id=\"df-6855c43a-5caf-4fc0-8992-57fafc9c07e0\">\n",
              "    <div class=\"colab-df-container\">\n",
              "      <div>\n",
              "<style scoped>\n",
              "    .dataframe tbody tr th:only-of-type {\n",
              "        vertical-align: middle;\n",
              "    }\n",
              "\n",
              "    .dataframe tbody tr th {\n",
              "        vertical-align: top;\n",
              "    }\n",
              "\n",
              "    .dataframe thead th {\n",
              "        text-align: right;\n",
              "    }\n",
              "</style>\n",
              "<table border=\"1\" class=\"dataframe\">\n",
              "  <thead>\n",
              "    <tr style=\"text-align: right;\">\n",
              "      <th></th>\n",
              "      <th>Country</th>\n",
              "      <th>Ladder_score</th>\n",
              "      <th>Explained by: Log GDP per capita</th>\n",
              "      <th>Explained by: Social support</th>\n",
              "      <th>Explained by: Healthy life expectancy</th>\n",
              "      <th>Explained by: Freedom to make life choices</th>\n",
              "      <th>Explained by: Generosity</th>\n",
              "      <th>Explained by: Perceptions of corruption</th>\n",
              "      <th>Dystopia + residual</th>\n",
              "    </tr>\n",
              "  </thead>\n",
              "  <tbody>\n",
              "    <tr>\n",
              "      <th>0</th>\n",
              "      <td>Finland</td>\n",
              "      <td>7.842</td>\n",
              "      <td>1.446</td>\n",
              "      <td>1.106</td>\n",
              "      <td>0.741</td>\n",
              "      <td>0.691</td>\n",
              "      <td>0.124</td>\n",
              "      <td>0.481</td>\n",
              "      <td>3.253</td>\n",
              "    </tr>\n",
              "    <tr>\n",
              "      <th>1</th>\n",
              "      <td>Denmark</td>\n",
              "      <td>7.620</td>\n",
              "      <td>1.502</td>\n",
              "      <td>1.108</td>\n",
              "      <td>0.763</td>\n",
              "      <td>0.686</td>\n",
              "      <td>0.208</td>\n",
              "      <td>0.485</td>\n",
              "      <td>2.868</td>\n",
              "    </tr>\n",
              "    <tr>\n",
              "      <th>2</th>\n",
              "      <td>Switzerland</td>\n",
              "      <td>7.571</td>\n",
              "      <td>1.566</td>\n",
              "      <td>1.079</td>\n",
              "      <td>0.816</td>\n",
              "      <td>0.653</td>\n",
              "      <td>0.204</td>\n",
              "      <td>0.413</td>\n",
              "      <td>2.839</td>\n",
              "    </tr>\n",
              "    <tr>\n",
              "      <th>3</th>\n",
              "      <td>Iceland</td>\n",
              "      <td>7.554</td>\n",
              "      <td>1.482</td>\n",
              "      <td>1.172</td>\n",
              "      <td>0.772</td>\n",
              "      <td>0.698</td>\n",
              "      <td>0.293</td>\n",
              "      <td>0.170</td>\n",
              "      <td>2.967</td>\n",
              "    </tr>\n",
              "    <tr>\n",
              "      <th>4</th>\n",
              "      <td>Netherlands</td>\n",
              "      <td>7.464</td>\n",
              "      <td>1.501</td>\n",
              "      <td>1.079</td>\n",
              "      <td>0.753</td>\n",
              "      <td>0.647</td>\n",
              "      <td>0.302</td>\n",
              "      <td>0.384</td>\n",
              "      <td>2.798</td>\n",
              "    </tr>\n",
              "  </tbody>\n",
              "</table>\n",
              "</div>\n",
              "      <button class=\"colab-df-convert\" onclick=\"convertToInteractive('df-6855c43a-5caf-4fc0-8992-57fafc9c07e0')\"\n",
              "              title=\"Convert this dataframe to an interactive table.\"\n",
              "              style=\"display:none;\">\n",
              "        \n",
              "  <svg xmlns=\"http://www.w3.org/2000/svg\" height=\"24px\"viewBox=\"0 0 24 24\"\n",
              "       width=\"24px\">\n",
              "    <path d=\"M0 0h24v24H0V0z\" fill=\"none\"/>\n",
              "    <path d=\"M18.56 5.44l.94 2.06.94-2.06 2.06-.94-2.06-.94-.94-2.06-.94 2.06-2.06.94zm-11 1L8.5 8.5l.94-2.06 2.06-.94-2.06-.94L8.5 2.5l-.94 2.06-2.06.94zm10 10l.94 2.06.94-2.06 2.06-.94-2.06-.94-.94-2.06-.94 2.06-2.06.94z\"/><path d=\"M17.41 7.96l-1.37-1.37c-.4-.4-.92-.59-1.43-.59-.52 0-1.04.2-1.43.59L10.3 9.45l-7.72 7.72c-.78.78-.78 2.05 0 2.83L4 21.41c.39.39.9.59 1.41.59.51 0 1.02-.2 1.41-.59l7.78-7.78 2.81-2.81c.8-.78.8-2.07 0-2.86zM5.41 20L4 18.59l7.72-7.72 1.47 1.35L5.41 20z\"/>\n",
              "  </svg>\n",
              "      </button>\n",
              "      \n",
              "  <style>\n",
              "    .colab-df-container {\n",
              "      display:flex;\n",
              "      flex-wrap:wrap;\n",
              "      gap: 12px;\n",
              "    }\n",
              "\n",
              "    .colab-df-convert {\n",
              "      background-color: #E8F0FE;\n",
              "      border: none;\n",
              "      border-radius: 50%;\n",
              "      cursor: pointer;\n",
              "      display: none;\n",
              "      fill: #1967D2;\n",
              "      height: 32px;\n",
              "      padding: 0 0 0 0;\n",
              "      width: 32px;\n",
              "    }\n",
              "\n",
              "    .colab-df-convert:hover {\n",
              "      background-color: #E2EBFA;\n",
              "      box-shadow: 0px 1px 2px rgba(60, 64, 67, 0.3), 0px 1px 3px 1px rgba(60, 64, 67, 0.15);\n",
              "      fill: #174EA6;\n",
              "    }\n",
              "\n",
              "    [theme=dark] .colab-df-convert {\n",
              "      background-color: #3B4455;\n",
              "      fill: #D2E3FC;\n",
              "    }\n",
              "\n",
              "    [theme=dark] .colab-df-convert:hover {\n",
              "      background-color: #434B5C;\n",
              "      box-shadow: 0px 1px 3px 1px rgba(0, 0, 0, 0.15);\n",
              "      filter: drop-shadow(0px 1px 2px rgba(0, 0, 0, 0.3));\n",
              "      fill: #FFFFFF;\n",
              "    }\n",
              "  </style>\n",
              "\n",
              "      <script>\n",
              "        const buttonEl =\n",
              "          document.querySelector('#df-6855c43a-5caf-4fc0-8992-57fafc9c07e0 button.colab-df-convert');\n",
              "        buttonEl.style.display =\n",
              "          google.colab.kernel.accessAllowed ? 'block' : 'none';\n",
              "\n",
              "        async function convertToInteractive(key) {\n",
              "          const element = document.querySelector('#df-6855c43a-5caf-4fc0-8992-57fafc9c07e0');\n",
              "          const dataTable =\n",
              "            await google.colab.kernel.invokeFunction('convertToInteractive',\n",
              "                                                     [key], {});\n",
              "          if (!dataTable) return;\n",
              "\n",
              "          const docLinkHtml = 'Like what you see? Visit the ' +\n",
              "            '<a target=\"_blank\" href=https://colab.research.google.com/notebooks/data_table.ipynb>data table notebook</a>'\n",
              "            + ' to learn more about interactive tables.';\n",
              "          element.innerHTML = '';\n",
              "          dataTable['output_type'] = 'display_data';\n",
              "          await google.colab.output.renderOutput(dataTable, element);\n",
              "          const docLink = document.createElement('div');\n",
              "          docLink.innerHTML = docLinkHtml;\n",
              "          element.appendChild(docLink);\n",
              "        }\n",
              "      </script>\n",
              "    </div>\n",
              "  </div>\n",
              "  "
            ],
            "text/plain": [
              "       Country  ...  Dystopia + residual\n",
              "0      Finland  ...                3.253\n",
              "1      Denmark  ...                2.868\n",
              "2  Switzerland  ...                2.839\n",
              "3      Iceland  ...                2.967\n",
              "4  Netherlands  ...                2.798\n",
              "\n",
              "[5 rows x 9 columns]"
            ]
          },
          "metadata": {},
          "execution_count": 186
        }
      ]
    },
    {
      "cell_type": "code",
      "source": [
        "#to check if we have any duplicate data\n",
        "duplicate_rows_df = df[df.duplicated()]\n",
        "print(\"number of duplicate rows: \", duplicate_rows_df.shape)"
      ],
      "metadata": {
        "id": "LqyxbPWHVajg",
        "colab": {
          "base_uri": "https://localhost:8080/"
        },
        "outputId": "d09b4a6b-f6f6-4099-ed9b-d889005834d1"
      },
      "execution_count": null,
      "outputs": [
        {
          "output_type": "stream",
          "name": "stdout",
          "text": [
            "number of duplicate rows:  (0, 9)\n"
          ]
        }
      ]
    },
    {
      "cell_type": "code",
      "source": [
        "df.count() #no of rows/data samples present"
      ],
      "metadata": {
        "colab": {
          "base_uri": "https://localhost:8080/"
        },
        "id": "Afd07K4MWB83",
        "outputId": "d7d20d8f-40fa-4640-f29d-29b8a5440945"
      },
      "execution_count": null,
      "outputs": [
        {
          "output_type": "execute_result",
          "data": {
            "text/plain": [
              "Country                                       149\n",
              "Ladder_score                                  149\n",
              "Explained by: Log GDP per capita              149\n",
              "Explained by: Social support                  149\n",
              "Explained by: Healthy life expectancy         149\n",
              "Explained by: Freedom to make life choices    149\n",
              "Explained by: Generosity                      149\n",
              "Explained by: Perceptions of corruption       149\n",
              "Dystopia + residual                           149\n",
              "dtype: int64"
            ]
          },
          "metadata": {},
          "execution_count": 188
        }
      ]
    },
    {
      "cell_type": "markdown",
      "source": [
        "Since there are no missing values present in the data set hence we won't need to perform commands to remove those (df = df.dropna()  is used)\n",
        "\n",
        "We now take sum of all factors to do comparison for visualisation"
      ],
      "metadata": {
        "id": "yec09f6OXC5s"
      }
    },
    {
      "cell_type": "code",
      "source": [
        "def sum_frame_by_column(frame, new_col_name, list_of_cols_to_sum):\n",
        "    frame[new_col_name] = frame[list_of_cols_to_sum].astype(float).sum(axis=1)\n",
        "    return(frame)\n",
        "sum_frame_by_column(df, 'total', ['Explained by: Log GDP per capita','Explained by: Social support','Dystopia + residual','Explained by: Healthy life expectancy','Explained by: Freedom to make life choices','Explained by: Generosity','Explained by: Perceptions of corruption'])\n",
        "df.head(5)"
      ],
      "metadata": {
        "colab": {
          "base_uri": "https://localhost:8080/",
          "height": 285
        },
        "id": "VbAp-GVhssZv",
        "outputId": "4bbdd3bb-5baa-446f-906d-bed6d508afe0"
      },
      "execution_count": null,
      "outputs": [
        {
          "output_type": "execute_result",
          "data": {
            "text/html": [
              "\n",
              "  <div id=\"df-2e23df00-4610-44fc-b40c-86e95b6476b5\">\n",
              "    <div class=\"colab-df-container\">\n",
              "      <div>\n",
              "<style scoped>\n",
              "    .dataframe tbody tr th:only-of-type {\n",
              "        vertical-align: middle;\n",
              "    }\n",
              "\n",
              "    .dataframe tbody tr th {\n",
              "        vertical-align: top;\n",
              "    }\n",
              "\n",
              "    .dataframe thead th {\n",
              "        text-align: right;\n",
              "    }\n",
              "</style>\n",
              "<table border=\"1\" class=\"dataframe\">\n",
              "  <thead>\n",
              "    <tr style=\"text-align: right;\">\n",
              "      <th></th>\n",
              "      <th>Country</th>\n",
              "      <th>Ladder_score</th>\n",
              "      <th>Explained by: Log GDP per capita</th>\n",
              "      <th>Explained by: Social support</th>\n",
              "      <th>Explained by: Healthy life expectancy</th>\n",
              "      <th>Explained by: Freedom to make life choices</th>\n",
              "      <th>Explained by: Generosity</th>\n",
              "      <th>Explained by: Perceptions of corruption</th>\n",
              "      <th>Dystopia + residual</th>\n",
              "      <th>total</th>\n",
              "    </tr>\n",
              "  </thead>\n",
              "  <tbody>\n",
              "    <tr>\n",
              "      <th>0</th>\n",
              "      <td>Finland</td>\n",
              "      <td>7.842</td>\n",
              "      <td>1.446</td>\n",
              "      <td>1.106</td>\n",
              "      <td>0.741</td>\n",
              "      <td>0.691</td>\n",
              "      <td>0.124</td>\n",
              "      <td>0.481</td>\n",
              "      <td>3.253</td>\n",
              "      <td>7.842</td>\n",
              "    </tr>\n",
              "    <tr>\n",
              "      <th>1</th>\n",
              "      <td>Denmark</td>\n",
              "      <td>7.620</td>\n",
              "      <td>1.502</td>\n",
              "      <td>1.108</td>\n",
              "      <td>0.763</td>\n",
              "      <td>0.686</td>\n",
              "      <td>0.208</td>\n",
              "      <td>0.485</td>\n",
              "      <td>2.868</td>\n",
              "      <td>7.620</td>\n",
              "    </tr>\n",
              "    <tr>\n",
              "      <th>2</th>\n",
              "      <td>Switzerland</td>\n",
              "      <td>7.571</td>\n",
              "      <td>1.566</td>\n",
              "      <td>1.079</td>\n",
              "      <td>0.816</td>\n",
              "      <td>0.653</td>\n",
              "      <td>0.204</td>\n",
              "      <td>0.413</td>\n",
              "      <td>2.839</td>\n",
              "      <td>7.570</td>\n",
              "    </tr>\n",
              "    <tr>\n",
              "      <th>3</th>\n",
              "      <td>Iceland</td>\n",
              "      <td>7.554</td>\n",
              "      <td>1.482</td>\n",
              "      <td>1.172</td>\n",
              "      <td>0.772</td>\n",
              "      <td>0.698</td>\n",
              "      <td>0.293</td>\n",
              "      <td>0.170</td>\n",
              "      <td>2.967</td>\n",
              "      <td>7.554</td>\n",
              "    </tr>\n",
              "    <tr>\n",
              "      <th>4</th>\n",
              "      <td>Netherlands</td>\n",
              "      <td>7.464</td>\n",
              "      <td>1.501</td>\n",
              "      <td>1.079</td>\n",
              "      <td>0.753</td>\n",
              "      <td>0.647</td>\n",
              "      <td>0.302</td>\n",
              "      <td>0.384</td>\n",
              "      <td>2.798</td>\n",
              "      <td>7.464</td>\n",
              "    </tr>\n",
              "  </tbody>\n",
              "</table>\n",
              "</div>\n",
              "      <button class=\"colab-df-convert\" onclick=\"convertToInteractive('df-2e23df00-4610-44fc-b40c-86e95b6476b5')\"\n",
              "              title=\"Convert this dataframe to an interactive table.\"\n",
              "              style=\"display:none;\">\n",
              "        \n",
              "  <svg xmlns=\"http://www.w3.org/2000/svg\" height=\"24px\"viewBox=\"0 0 24 24\"\n",
              "       width=\"24px\">\n",
              "    <path d=\"M0 0h24v24H0V0z\" fill=\"none\"/>\n",
              "    <path d=\"M18.56 5.44l.94 2.06.94-2.06 2.06-.94-2.06-.94-.94-2.06-.94 2.06-2.06.94zm-11 1L8.5 8.5l.94-2.06 2.06-.94-2.06-.94L8.5 2.5l-.94 2.06-2.06.94zm10 10l.94 2.06.94-2.06 2.06-.94-2.06-.94-.94-2.06-.94 2.06-2.06.94z\"/><path d=\"M17.41 7.96l-1.37-1.37c-.4-.4-.92-.59-1.43-.59-.52 0-1.04.2-1.43.59L10.3 9.45l-7.72 7.72c-.78.78-.78 2.05 0 2.83L4 21.41c.39.39.9.59 1.41.59.51 0 1.02-.2 1.41-.59l7.78-7.78 2.81-2.81c.8-.78.8-2.07 0-2.86zM5.41 20L4 18.59l7.72-7.72 1.47 1.35L5.41 20z\"/>\n",
              "  </svg>\n",
              "      </button>\n",
              "      \n",
              "  <style>\n",
              "    .colab-df-container {\n",
              "      display:flex;\n",
              "      flex-wrap:wrap;\n",
              "      gap: 12px;\n",
              "    }\n",
              "\n",
              "    .colab-df-convert {\n",
              "      background-color: #E8F0FE;\n",
              "      border: none;\n",
              "      border-radius: 50%;\n",
              "      cursor: pointer;\n",
              "      display: none;\n",
              "      fill: #1967D2;\n",
              "      height: 32px;\n",
              "      padding: 0 0 0 0;\n",
              "      width: 32px;\n",
              "    }\n",
              "\n",
              "    .colab-df-convert:hover {\n",
              "      background-color: #E2EBFA;\n",
              "      box-shadow: 0px 1px 2px rgba(60, 64, 67, 0.3), 0px 1px 3px 1px rgba(60, 64, 67, 0.15);\n",
              "      fill: #174EA6;\n",
              "    }\n",
              "\n",
              "    [theme=dark] .colab-df-convert {\n",
              "      background-color: #3B4455;\n",
              "      fill: #D2E3FC;\n",
              "    }\n",
              "\n",
              "    [theme=dark] .colab-df-convert:hover {\n",
              "      background-color: #434B5C;\n",
              "      box-shadow: 0px 1px 3px 1px rgba(0, 0, 0, 0.15);\n",
              "      filter: drop-shadow(0px 1px 2px rgba(0, 0, 0, 0.3));\n",
              "      fill: #FFFFFF;\n",
              "    }\n",
              "  </style>\n",
              "\n",
              "      <script>\n",
              "        const buttonEl =\n",
              "          document.querySelector('#df-2e23df00-4610-44fc-b40c-86e95b6476b5 button.colab-df-convert');\n",
              "        buttonEl.style.display =\n",
              "          google.colab.kernel.accessAllowed ? 'block' : 'none';\n",
              "\n",
              "        async function convertToInteractive(key) {\n",
              "          const element = document.querySelector('#df-2e23df00-4610-44fc-b40c-86e95b6476b5');\n",
              "          const dataTable =\n",
              "            await google.colab.kernel.invokeFunction('convertToInteractive',\n",
              "                                                     [key], {});\n",
              "          if (!dataTable) return;\n",
              "\n",
              "          const docLinkHtml = 'Like what you see? Visit the ' +\n",
              "            '<a target=\"_blank\" href=https://colab.research.google.com/notebooks/data_table.ipynb>data table notebook</a>'\n",
              "            + ' to learn more about interactive tables.';\n",
              "          element.innerHTML = '';\n",
              "          dataTable['output_type'] = 'display_data';\n",
              "          await google.colab.output.renderOutput(dataTable, element);\n",
              "          const docLink = document.createElement('div');\n",
              "          docLink.innerHTML = docLinkHtml;\n",
              "          element.appendChild(docLink);\n",
              "        }\n",
              "      </script>\n",
              "    </div>\n",
              "  </div>\n",
              "  "
            ],
            "text/plain": [
              "       Country  Ladder_score  ...  Dystopia + residual  total\n",
              "0      Finland         7.842  ...                3.253  7.842\n",
              "1      Denmark         7.620  ...                2.868  7.620\n",
              "2  Switzerland         7.571  ...                2.839  7.570\n",
              "3      Iceland         7.554  ...                2.967  7.554\n",
              "4  Netherlands         7.464  ...                2.798  7.464\n",
              "\n",
              "[5 rows x 10 columns]"
            ]
          },
          "metadata": {},
          "execution_count": 189
        }
      ]
    },
    {
      "cell_type": "code",
      "source": [
        "df.hist(figsize=(15,15))\n",
        "plt.show()\n",
        "#A histogram groups numbers into ranges (or bins) and the height of a bar shows how many numbers fall in that range. \n",
        "#df.hist() plots a histogram of the data’s numeric features in a grid."
      ],
      "metadata": {
        "id": "hCdQzGsUciY6",
        "colab": {
          "base_uri": "https://localhost:8080/",
          "height": 882
        },
        "outputId": "8a8683ab-67f3-46f3-88c0-1990a719fc46"
      },
      "execution_count": null,
      "outputs": [
        {
          "output_type": "display_data",
          "data": {
            "image/png": "[encoded data removed]",
            "text/plain": [
              "<Figure size 1080x1080 with 9 Axes>"
            ]
          },
          "metadata": {}
        }
      ]
    },
    {
      "cell_type": "markdown",
      "source": [
        "Now before having different types of plots we will identfy and remove the outliers: An outlier is a point or set of points that are different from other points. Sometimes they can be very high or very low. It's often a good idea to detect and remove the outliers. Because outliers are one of the primary reasons for resulting in a less accurate model. Hence it's a good idea to remove them. The outlier detection and removing that we are going to perform is called IQR score technique."
      ],
      "metadata": {
        "id": "0YkWUNrsizhM"
      }
    },
    {
      "cell_type": "code",
      "source": [
        "sns.boxplot(x=df['Ladder_score'])"
      ],
      "metadata": {
        "id": "pHvEDejxiuYw",
        "colab": {
          "base_uri": "https://localhost:8080/",
          "height": 302
        },
        "outputId": "7956d6f7-f0d0-4d68-b31e-4fed50cada87"
      },
      "execution_count": null,
      "outputs": [
        {
          "output_type": "execute_result",
          "data": {
            "text/plain": [
              "<matplotlib.axes._subplots.AxesSubplot at 0x7f0bd07a7950>"
            ]
          },
          "metadata": {},
          "execution_count": 191
        },
        {
          "output_type": "display_data",
          "data": {
            "image/png": "[encoded data removed]",
            "text/plain": [
              "<Figure size 432x288 with 1 Axes>"
            ]
          },
          "metadata": {}
        }
      ]
    },
    {
      "cell_type": "code",
      "source": [
        "sns.boxplot(x=df['Explained by: Log GDP per capita'])\n"
      ],
      "metadata": {
        "id": "LcbNIY0RnmZe",
        "colab": {
          "base_uri": "https://localhost:8080/",
          "height": 302
        },
        "outputId": "93983ed0-9400-41f4-91f0-da07b7a52a5d"
      },
      "execution_count": null,
      "outputs": [
        {
          "output_type": "execute_result",
          "data": {
            "text/plain": [
              "<matplotlib.axes._subplots.AxesSubplot at 0x7f0bd083f950>"
            ]
          },
          "metadata": {},
          "execution_count": 192
        },
        {
          "output_type": "display_data",
          "data": {
            "image/png": "[encoded data removed]",
            "text/plain": [
              "<Figure size 432x288 with 1 Axes>"
            ]
          },
          "metadata": {}
        }
      ]
    },
    {
      "cell_type": "code",
      "source": [
        "sns.boxplot(x=df['Explained by: Social support'])"
      ],
      "metadata": {
        "id": "fTUtRTLMn0sO",
        "colab": {
          "base_uri": "https://localhost:8080/",
          "height": 302
        },
        "outputId": "5805f71a-0385-416b-e3a7-c43397fa86d7"
      },
      "execution_count": null,
      "outputs": [
        {
          "output_type": "execute_result",
          "data": {
            "text/plain": [
              "<matplotlib.axes._subplots.AxesSubplot at 0x7f0bd093b5d0>"
            ]
          },
          "metadata": {},
          "execution_count": 193
        },
        {
          "output_type": "display_data",
          "data": {
            "image/png": "[encoded data removed]",
            "text/plain": [
              "<Figure size 432x288 with 1 Axes>"
            ]
          },
          "metadata": {}
        }
      ]
    },
    {
      "cell_type": "code",
      "source": [
        "sns.boxplot(x=df['Explained by: Healthy life expectancy'])"
      ],
      "metadata": {
        "id": "69xk1RTAn0tX",
        "colab": {
          "base_uri": "https://localhost:8080/",
          "height": 302
        },
        "outputId": "d792b896-16f5-4611-ed6d-8b711049de34"
      },
      "execution_count": null,
      "outputs": [
        {
          "output_type": "execute_result",
          "data": {
            "text/plain": [
              "<matplotlib.axes._subplots.AxesSubplot at 0x7f0bd0995050>"
            ]
          },
          "metadata": {},
          "execution_count": 194
        },
        {
          "output_type": "display_data",
          "data": {
            "image/png": "[encoded data removed]",
            "text/plain": [
              "<Figure size 432x288 with 1 Axes>"
            ]
          },
          "metadata": {}
        }
      ]
    },
    {
      "cell_type": "code",
      "source": [
        "sns.boxplot(x=df['Explained by: Freedom to make life choices'])"
      ],
      "metadata": {
        "id": "4M9gqMLbnmh8",
        "colab": {
          "base_uri": "https://localhost:8080/",
          "height": 302
        },
        "outputId": "ec65e0ed-23f3-4837-83f0-65ce2f2f31d9"
      },
      "execution_count": null,
      "outputs": [
        {
          "output_type": "execute_result",
          "data": {
            "text/plain": [
              "<matplotlib.axes._subplots.AxesSubplot at 0x7f0bd0bc3210>"
            ]
          },
          "metadata": {},
          "execution_count": 195
        },
        {
          "output_type": "display_data",
          "data": {
            "image/png": "[encoded data removed]",
            "text/plain": [
              "<Figure size 432x288 with 1 Axes>"
            ]
          },
          "metadata": {}
        }
      ]
    },
    {
      "cell_type": "code",
      "source": [
        "sns.boxplot(x=df['Explained by: Generosity'])"
      ],
      "metadata": {
        "id": "-Rnr0__9nmmd",
        "colab": {
          "base_uri": "https://localhost:8080/",
          "height": 302
        },
        "outputId": "8304868f-0e2d-4e67-926b-71210ddb77a3"
      },
      "execution_count": null,
      "outputs": [
        {
          "output_type": "execute_result",
          "data": {
            "text/plain": [
              "<matplotlib.axes._subplots.AxesSubplot at 0x7f0bd1084310>"
            ]
          },
          "metadata": {},
          "execution_count": 196
        },
        {
          "output_type": "display_data",
          "data": {
            "image/png": "[encoded data removed]",
            "text/plain": [
              "<Figure size 432x288 with 1 Axes>"
            ]
          },
          "metadata": {}
        }
      ]
    },
    {
      "cell_type": "code",
      "source": [
        "sns.boxplot(x=df['Explained by: Perceptions of corruption'])"
      ],
      "metadata": {
        "id": "AgpDvlDxnmqu",
        "colab": {
          "base_uri": "https://localhost:8080/",
          "height": 302
        },
        "outputId": "8e0a79da-dade-4514-9ef2-e0ed651f6cef"
      },
      "execution_count": null,
      "outputs": [
        {
          "output_type": "execute_result",
          "data": {
            "text/plain": [
              "<matplotlib.axes._subplots.AxesSubplot at 0x7f0bd0ce55d0>"
            ]
          },
          "metadata": {},
          "execution_count": 197
        },
        {
          "output_type": "display_data",
          "data": {
            "image/png": "[encoded data removed]",
            "text/plain": [
              "<Figure size 432x288 with 1 Axes>"
            ]
          },
          "metadata": {}
        }
      ]
    },
    {
      "cell_type": "code",
      "source": [
        "sns.boxplot(x=df['Dystopia + residual'])"
      ],
      "metadata": {
        "colab": {
          "base_uri": "https://localhost:8080/",
          "height": 302
        },
        "id": "9HFQMEFhvo5x",
        "outputId": "92f663a1-d5c8-499f-cd44-c912174d3a14"
      },
      "execution_count": null,
      "outputs": [
        {
          "output_type": "execute_result",
          "data": {
            "text/plain": [
              "<matplotlib.axes._subplots.AxesSubplot at 0x7f0bd0f8cc10>"
            ]
          },
          "metadata": {},
          "execution_count": 201
        },
        {
          "output_type": "display_data",
          "data": {
            "image/png": "[encoded data removed]",
            "text/plain": [
              "<Figure size 432x288 with 1 Axes>"
            ]
          },
          "metadata": {}
        }
      ]
    },
    {
      "cell_type": "code",
      "source": [
        "#finding inter quartile range (IQR) to remove outliers\n",
        "Q1 = df.quantile(0.25)\n",
        "Q3 = df.quantile(0.75)\n",
        "IQR = Q3 - Q1\n",
        "print(IQR)"
      ],
      "metadata": {
        "colab": {
          "base_uri": "https://localhost:8080/"
        },
        "id": "qV5yNIkBkSq8",
        "outputId": "d0e36889-b5fd-496f-a55d-d427f6332f02"
      },
      "execution_count": null,
      "outputs": [
        {
          "output_type": "stream",
          "name": "stdout",
          "text": [
            "Ladder_score                                  1.403\n",
            "Explained by: Log GDP per capita              0.657\n",
            "Explained by: Social support                  0.349\n",
            "Explained by: Healthy life expectancy         0.308\n",
            "Explained by: Freedom to make life choices    0.194\n",
            "Explained by: Generosity                      0.134\n",
            "Explained by: Perceptions of corruption       0.114\n",
            "Dystopia + residual                           0.656\n",
            "total                                         1.403\n",
            "dtype: float64\n"
          ]
        }
      ]
    },
    {
      "cell_type": "code",
      "source": [
        "df = df[~((df < (Q1 - 1.5 * IQR)) |(df > (Q3 + 1.5 * IQR))).any(axis=1)]\n",
        "df.shape"
      ],
      "metadata": {
        "colab": {
          "base_uri": "https://localhost:8080/"
        },
        "id": "xVjrlb85ohQB",
        "outputId": "a603d4f0-7935-44e5-91d6-34720e678bf2"
      },
      "execution_count": null,
      "outputs": [
        {
          "output_type": "stream",
          "name": "stderr",
          "text": [
            "/usr/local/lib/python3.7/dist-packages/ipykernel_launcher.py:1: FutureWarning: Automatic reindexing on DataFrame vs Series comparisons is deprecated and will raise ValueError in a future version.  Do `left, right = left.align(right, axis=1, copy=False)` before e.g. `left == right`\n",
            "  \"\"\"Entry point for launching an IPython kernel.\n"
          ]
        },
        {
          "output_type": "execute_result",
          "data": {
            "text/plain": [
              "(129, 10)"
            ]
          },
          "metadata": {},
          "execution_count": 199
        }
      ]
    },
    {
      "cell_type": "markdown",
      "source": [
        "We see that around 20 rows were outliers which are now removed"
      ],
      "metadata": {
        "id": "6P5DGSXJorEn"
      }
    },
    {
      "cell_type": "code",
      "source": [
        "#Ploting a feature\n",
        "#we can call the value_counts method on the ladder field to see the count of unique values for each value\n",
        "#df['total'].value_counts().plot(kind='bar', figsize=(20,10));\n",
        "#plt.ylabel('Number of countries')\n",
        "#plt.xlabel('Value of ');\n",
        "df.total.value_counts().nlargest(40).plot(kind='bar', figsize=(10,5))\n",
        "plt.title(\"Number of cars by make\")\n",
        "plt.ylabel('Number of cars')\n",
        "plt.xlabel('Make');\n"
      ],
      "metadata": {
        "colab": {
          "base_uri": "https://localhost:8080/",
          "height": 467
        },
        "id": "G-u1XfIRdcsK",
        "outputId": "019c4e69-394a-43db-e739-f21b962fe93d"
      },
      "execution_count": null,
      "outputs": [
        {
          "output_type": "display_data",
          "data": {
            "image/png": "[encoded data removed]",
            "text/plain": [
              "<Figure size 720x360 with 1 Axes>"
            ]
          },
          "metadata": {}
        }
      ]
    },
    {
      "cell_type": "code",
      "source": [
        "#Ploting different features against one another (scatter), against frequency (histogram)\n",
        "df.Ladder_score.value_counts().nlargest(100).plot(kind='bar', figsize=(100,50))\n",
        "plt.title(\"Frequency of Ladder score\")\n",
        "plt.ylabel('Number of countries')\n",
        "plt.xlabel('Ladder score');"
      ],
      "metadata": {
        "id": "xODyl_l-f300"
      },
      "execution_count": null,
      "outputs": []
    },
    {
      "cell_type": "code",
      "source": [
        ""
      ],
      "metadata": {
        "id": "iwWijFskfQIO"
      },
      "execution_count": null,
      "outputs": []
    }
  ]
}