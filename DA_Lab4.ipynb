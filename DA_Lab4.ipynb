{
  "nbformat": 4,
  "nbformat_minor": 0,
  "metadata": {
    "colab": {
      "name": "DA_Lab4.ipynb",
      "provenance": [],
      "authorship_tag": "ABX9TyP474A6oyqw4F2Eoh02fEBq",
      "include_colab_link": true
    },
    "kernelspec": {
      "name": "python3",
      "display_name": "Python 3"
    },
    "language_info": {
      "name": "python"
    }
  },
  "cells": [
    {
      "cell_type": "markdown",
      "metadata": {
        "id": "view-in-github",
        "colab_type": "text"
      },
      "source": [
        "<a href=\"https://colab.research.google.com/github/gar1ma/DA-Experiments/blob/main/DA_Lab4.ipynb\" target=\"_parent\"><img src=\"https://colab.research.google.com/assets/colab-badge.svg\" alt=\"Open In Colab\"/></a>"
      ]
    },
    {
      "cell_type": "markdown",
      "source": [
        "Experiment 04: 22/03/2022\n",
        "UCID:2019120027\n",
        "\n",
        "\n",
        "Lab 4: Linear Regression\n",
        "Objective:\n",
        "Building Linear Regression model for given dataset."
      ],
      "metadata": {
        "id": "TLHU4R2DyPEz"
      }
    },
    {
      "cell_type": "markdown",
      "source": [
        "Problem 1.1 - Creating Our First Model\n",
        "\n",
        "We are interested in how changes in these variables affect future temperatures, as well as how well these variables explain temperature changes so far. To do this, first read the dataset climate_change.csv into Python.\n",
        "\n",
        "Then, split the data into a training set, consisting of all the observations up to and including 2006, and a testing set consisting of the remaining years (hint: use subset). A training set refers to the data that will be used to build the model, and a testing set refers to the data we will use to test our predictive ability.\n",
        "\n",
        "Next, build a linear regression model to predict the dependent variable Temp, using MEI, CO2, CH4, N2O, CFC.11, CFC.12, TSI, and Aerosols as independent variables (Year and Month should NOT be used in the model). Use the training set to build the model."
      ],
      "metadata": {
        "id": "sXr0dadqHTe3"
      }
    },
    {
      "cell_type": "code",
      "source": [
        "# Importing required libraries.\n",
        "import pandas as pd\n",
        "import numpy as np\n",
        "import seaborn as sns #using seaborn library for visualisation\n",
        "import matplotlib.pyplot as plt #visualisation\n",
        "from matplotlib import pyplot as plt\n",
        "%matplotlib inline \n",
        "from sklearn.metrics import r2_score\n",
        "sns.set(color_codes=True)"
      ],
      "metadata": {
        "id": "tfRFQmlk1qn1"
      },
      "execution_count": 2,
      "outputs": []
    },
    {
      "cell_type": "code",
      "source": [
        "df = pd.read_csv(\"climate_change.csv\") #reading the data\n",
        "df.head(5) # To display the top 5 rows "
      ],
      "metadata": {
        "colab": {
          "base_uri": "https://localhost:8080/",
          "height": 206
        },
        "id": "QrptggbR1Trv",
        "outputId": "a81ede3b-3698-4f34-e9ef-4a68d489a286"
      },
      "execution_count": 3,
      "outputs": [
        {
          "output_type": "execute_result",
          "data": {
            "text/plain": [
              "   Year  Month    MEI     CO2      CH4      N2O   CFC-11   CFC-12        TSI  \\\n",
              "0  1983      5  2.556  345.96  1638.59  303.677  191.324  350.113  1366.1024   \n",
              "1  1983      6  2.167  345.52  1633.71  303.746  192.057  351.848  1366.1208   \n",
              "2  1983      7  1.741  344.15  1633.22  303.795  192.818  353.725  1366.2850   \n",
              "3  1983      8  1.130  342.25  1631.35  303.839  193.602  355.633  1366.4202   \n",
              "4  1983      9  0.428  340.17  1648.40  303.901  194.392  357.465  1366.2335   \n",
              "\n",
              "   Aerosols   Temp  \n",
              "0    0.0863  0.109  \n",
              "1    0.0794  0.118  \n",
              "2    0.0731  0.137  \n",
              "3    0.0673  0.176  \n",
              "4    0.0619  0.149  "
            ],
            "text/html": [
              "\n",
              "  <div id=\"df-51b5f6aa-5681-4f0e-b79a-c040d8ecef3c\">\n",
              "    <div class=\"colab-df-container\">\n",
              "      <div>\n",
              "<style scoped>\n",
              "    .dataframe tbody tr th:only-of-type {\n",
              "        vertical-align: middle;\n",
              "    }\n",
              "\n",
              "    .dataframe tbody tr th {\n",
              "        vertical-align: top;\n",
              "    }\n",
              "\n",
              "    .dataframe thead th {\n",
              "        text-align: right;\n",
              "    }\n",
              "</style>\n",
              "<table border=\"1\" class=\"dataframe\">\n",
              "  <thead>\n",
              "    <tr style=\"text-align: right;\">\n",
              "      <th></th>\n",
              "      <th>Year</th>\n",
              "      <th>Month</th>\n",
              "      <th>MEI</th>\n",
              "      <th>CO2</th>\n",
              "      <th>CH4</th>\n",
              "      <th>N2O</th>\n",
              "      <th>CFC-11</th>\n",
              "      <th>CFC-12</th>\n",
              "      <th>TSI</th>\n",
              "      <th>Aerosols</th>\n",
              "      <th>Temp</th>\n",
              "    </tr>\n",
              "  </thead>\n",
              "  <tbody>\n",
              "    <tr>\n",
              "      <th>0</th>\n",
              "      <td>1983</td>\n",
              "      <td>5</td>\n",
              "      <td>2.556</td>\n",
              "      <td>345.96</td>\n",
              "      <td>1638.59</td>\n",
              "      <td>303.677</td>\n",
              "      <td>191.324</td>\n",
              "      <td>350.113</td>\n",
              "      <td>1366.1024</td>\n",
              "      <td>0.0863</td>\n",
              "      <td>0.109</td>\n",
              "    </tr>\n",
              "    <tr>\n",
              "      <th>1</th>\n",
              "      <td>1983</td>\n",
              "      <td>6</td>\n",
              "      <td>2.167</td>\n",
              "      <td>345.52</td>\n",
              "      <td>1633.71</td>\n",
              "      <td>303.746</td>\n",
              "      <td>192.057</td>\n",
              "      <td>351.848</td>\n",
              "      <td>1366.1208</td>\n",
              "      <td>0.0794</td>\n",
              "      <td>0.118</td>\n",
              "    </tr>\n",
              "    <tr>\n",
              "      <th>2</th>\n",
              "      <td>1983</td>\n",
              "      <td>7</td>\n",
              "      <td>1.741</td>\n",
              "      <td>344.15</td>\n",
              "      <td>1633.22</td>\n",
              "      <td>303.795</td>\n",
              "      <td>192.818</td>\n",
              "      <td>353.725</td>\n",
              "      <td>1366.2850</td>\n",
              "      <td>0.0731</td>\n",
              "      <td>0.137</td>\n",
              "    </tr>\n",
              "    <tr>\n",
              "      <th>3</th>\n",
              "      <td>1983</td>\n",
              "      <td>8</td>\n",
              "      <td>1.130</td>\n",
              "      <td>342.25</td>\n",
              "      <td>1631.35</td>\n",
              "      <td>303.839</td>\n",
              "      <td>193.602</td>\n",
              "      <td>355.633</td>\n",
              "      <td>1366.4202</td>\n",
              "      <td>0.0673</td>\n",
              "      <td>0.176</td>\n",
              "    </tr>\n",
              "    <tr>\n",
              "      <th>4</th>\n",
              "      <td>1983</td>\n",
              "      <td>9</td>\n",
              "      <td>0.428</td>\n",
              "      <td>340.17</td>\n",
              "      <td>1648.40</td>\n",
              "      <td>303.901</td>\n",
              "      <td>194.392</td>\n",
              "      <td>357.465</td>\n",
              "      <td>1366.2335</td>\n",
              "      <td>0.0619</td>\n",
              "      <td>0.149</td>\n",
              "    </tr>\n",
              "  </tbody>\n",
              "</table>\n",
              "</div>\n",
              "      <button class=\"colab-df-convert\" onclick=\"convertToInteractive('df-51b5f6aa-5681-4f0e-b79a-c040d8ecef3c')\"\n",
              "              title=\"Convert this dataframe to an interactive table.\"\n",
              "              style=\"display:none;\">\n",
              "        \n",
              "  <svg xmlns=\"http://www.w3.org/2000/svg\" height=\"24px\"viewBox=\"0 0 24 24\"\n",
              "       width=\"24px\">\n",
              "    <path d=\"M0 0h24v24H0V0z\" fill=\"none\"/>\n",
              "    <path d=\"M18.56 5.44l.94 2.06.94-2.06 2.06-.94-2.06-.94-.94-2.06-.94 2.06-2.06.94zm-11 1L8.5 8.5l.94-2.06 2.06-.94-2.06-.94L8.5 2.5l-.94 2.06-2.06.94zm10 10l.94 2.06.94-2.06 2.06-.94-2.06-.94-.94-2.06-.94 2.06-2.06.94z\"/><path d=\"M17.41 7.96l-1.37-1.37c-.4-.4-.92-.59-1.43-.59-.52 0-1.04.2-1.43.59L10.3 9.45l-7.72 7.72c-.78.78-.78 2.05 0 2.83L4 21.41c.39.39.9.59 1.41.59.51 0 1.02-.2 1.41-.59l7.78-7.78 2.81-2.81c.8-.78.8-2.07 0-2.86zM5.41 20L4 18.59l7.72-7.72 1.47 1.35L5.41 20z\"/>\n",
              "  </svg>\n",
              "      </button>\n",
              "      \n",
              "  <style>\n",
              "    .colab-df-container {\n",
              "      display:flex;\n",
              "      flex-wrap:wrap;\n",
              "      gap: 12px;\n",
              "    }\n",
              "\n",
              "    .colab-df-convert {\n",
              "      background-color: #E8F0FE;\n",
              "      border: none;\n",
              "      border-radius: 50%;\n",
              "      cursor: pointer;\n",
              "      display: none;\n",
              "      fill: #1967D2;\n",
              "      height: 32px;\n",
              "      padding: 0 0 0 0;\n",
              "      width: 32px;\n",
              "    }\n",
              "\n",
              "    .colab-df-convert:hover {\n",
              "      background-color: #E2EBFA;\n",
              "      box-shadow: 0px 1px 2px rgba(60, 64, 67, 0.3), 0px 1px 3px 1px rgba(60, 64, 67, 0.15);\n",
              "      fill: #174EA6;\n",
              "    }\n",
              "\n",
              "    [theme=dark] .colab-df-convert {\n",
              "      background-color: #3B4455;\n",
              "      fill: #D2E3FC;\n",
              "    }\n",
              "\n",
              "    [theme=dark] .colab-df-convert:hover {\n",
              "      background-color: #434B5C;\n",
              "      box-shadow: 0px 1px 3px 1px rgba(0, 0, 0, 0.15);\n",
              "      filter: drop-shadow(0px 1px 2px rgba(0, 0, 0, 0.3));\n",
              "      fill: #FFFFFF;\n",
              "    }\n",
              "  </style>\n",
              "\n",
              "      <script>\n",
              "        const buttonEl =\n",
              "          document.querySelector('#df-51b5f6aa-5681-4f0e-b79a-c040d8ecef3c button.colab-df-convert');\n",
              "        buttonEl.style.display =\n",
              "          google.colab.kernel.accessAllowed ? 'block' : 'none';\n",
              "\n",
              "        async function convertToInteractive(key) {\n",
              "          const element = document.querySelector('#df-51b5f6aa-5681-4f0e-b79a-c040d8ecef3c');\n",
              "          const dataTable =\n",
              "            await google.colab.kernel.invokeFunction('convertToInteractive',\n",
              "                                                     [key], {});\n",
              "          if (!dataTable) return;\n",
              "\n",
              "          const docLinkHtml = 'Like what you see? Visit the ' +\n",
              "            '<a target=\"_blank\" href=https://colab.research.google.com/notebooks/data_table.ipynb>data table notebook</a>'\n",
              "            + ' to learn more about interactive tables.';\n",
              "          element.innerHTML = '';\n",
              "          dataTable['output_type'] = 'display_data';\n",
              "          await google.colab.output.renderOutput(dataTable, element);\n",
              "          const docLink = document.createElement('div');\n",
              "          docLink.innerHTML = docLinkHtml;\n",
              "          element.appendChild(docLink);\n",
              "        }\n",
              "      </script>\n",
              "    </div>\n",
              "  </div>\n",
              "  "
            ]
          },
          "metadata": {},
          "execution_count": 3
        }
      ]
    },
    {
      "cell_type": "code",
      "source": [
        "df.tail(5)"
      ],
      "metadata": {
        "colab": {
          "base_uri": "https://localhost:8080/",
          "height": 206
        },
        "id": "yATDDbJj2nfU",
        "outputId": "83a28a32-4f3f-4d55-edc0-53ded52ff2dc"
      },
      "execution_count": 4,
      "outputs": [
        {
          "output_type": "execute_result",
          "data": {
            "text/plain": [
              "     Year  Month    MEI     CO2      CH4      N2O   CFC-11   CFC-12  \\\n",
              "303  2008      8 -0.266  384.15  1779.88  321.405  244.200  535.072   \n",
              "304  2008      9 -0.643  383.09  1795.08  321.529  244.083  535.048   \n",
              "305  2008     10 -0.780  382.99  1814.18  321.796  244.080  534.927   \n",
              "306  2008     11 -0.621  384.13  1812.37  322.013  244.225  534.906   \n",
              "307  2008     12 -0.666  385.56  1812.88  322.182  244.204  535.005   \n",
              "\n",
              "           TSI  Aerosols   Temp  \n",
              "303  1365.6570    0.0036  0.407  \n",
              "304  1365.6647    0.0043  0.378  \n",
              "305  1365.6759    0.0046  0.440  \n",
              "306  1365.7065    0.0048  0.394  \n",
              "307  1365.6926    0.0046  0.330  "
            ],
            "text/html": [
              "\n",
              "  <div id=\"df-b7d54ec3-f911-409b-95b3-259ffea54cd4\">\n",
              "    <div class=\"colab-df-container\">\n",
              "      <div>\n",
              "<style scoped>\n",
              "    .dataframe tbody tr th:only-of-type {\n",
              "        vertical-align: middle;\n",
              "    }\n",
              "\n",
              "    .dataframe tbody tr th {\n",
              "        vertical-align: top;\n",
              "    }\n",
              "\n",
              "    .dataframe thead th {\n",
              "        text-align: right;\n",
              "    }\n",
              "</style>\n",
              "<table border=\"1\" class=\"dataframe\">\n",
              "  <thead>\n",
              "    <tr style=\"text-align: right;\">\n",
              "      <th></th>\n",
              "      <th>Year</th>\n",
              "      <th>Month</th>\n",
              "      <th>MEI</th>\n",
              "      <th>CO2</th>\n",
              "      <th>CH4</th>\n",
              "      <th>N2O</th>\n",
              "      <th>CFC-11</th>\n",
              "      <th>CFC-12</th>\n",
              "      <th>TSI</th>\n",
              "      <th>Aerosols</th>\n",
              "      <th>Temp</th>\n",
              "    </tr>\n",
              "  </thead>\n",
              "  <tbody>\n",
              "    <tr>\n",
              "      <th>303</th>\n",
              "      <td>2008</td>\n",
              "      <td>8</td>\n",
              "      <td>-0.266</td>\n",
              "      <td>384.15</td>\n",
              "      <td>1779.88</td>\n",
              "      <td>321.405</td>\n",
              "      <td>244.200</td>\n",
              "      <td>535.072</td>\n",
              "      <td>1365.6570</td>\n",
              "      <td>0.0036</td>\n",
              "      <td>0.407</td>\n",
              "    </tr>\n",
              "    <tr>\n",
              "      <th>304</th>\n",
              "      <td>2008</td>\n",
              "      <td>9</td>\n",
              "      <td>-0.643</td>\n",
              "      <td>383.09</td>\n",
              "      <td>1795.08</td>\n",
              "      <td>321.529</td>\n",
              "      <td>244.083</td>\n",
              "      <td>535.048</td>\n",
              "      <td>1365.6647</td>\n",
              "      <td>0.0043</td>\n",
              "      <td>0.378</td>\n",
              "    </tr>\n",
              "    <tr>\n",
              "      <th>305</th>\n",
              "      <td>2008</td>\n",
              "      <td>10</td>\n",
              "      <td>-0.780</td>\n",
              "      <td>382.99</td>\n",
              "      <td>1814.18</td>\n",
              "      <td>321.796</td>\n",
              "      <td>244.080</td>\n",
              "      <td>534.927</td>\n",
              "      <td>1365.6759</td>\n",
              "      <td>0.0046</td>\n",
              "      <td>0.440</td>\n",
              "    </tr>\n",
              "    <tr>\n",
              "      <th>306</th>\n",
              "      <td>2008</td>\n",
              "      <td>11</td>\n",
              "      <td>-0.621</td>\n",
              "      <td>384.13</td>\n",
              "      <td>1812.37</td>\n",
              "      <td>322.013</td>\n",
              "      <td>244.225</td>\n",
              "      <td>534.906</td>\n",
              "      <td>1365.7065</td>\n",
              "      <td>0.0048</td>\n",
              "      <td>0.394</td>\n",
              "    </tr>\n",
              "    <tr>\n",
              "      <th>307</th>\n",
              "      <td>2008</td>\n",
              "      <td>12</td>\n",
              "      <td>-0.666</td>\n",
              "      <td>385.56</td>\n",
              "      <td>1812.88</td>\n",
              "      <td>322.182</td>\n",
              "      <td>244.204</td>\n",
              "      <td>535.005</td>\n",
              "      <td>1365.6926</td>\n",
              "      <td>0.0046</td>\n",
              "      <td>0.330</td>\n",
              "    </tr>\n",
              "  </tbody>\n",
              "</table>\n",
              "</div>\n",
              "      <button class=\"colab-df-convert\" onclick=\"convertToInteractive('df-b7d54ec3-f911-409b-95b3-259ffea54cd4')\"\n",
              "              title=\"Convert this dataframe to an interactive table.\"\n",
              "              style=\"display:none;\">\n",
              "        \n",
              "  <svg xmlns=\"http://www.w3.org/2000/svg\" height=\"24px\"viewBox=\"0 0 24 24\"\n",
              "       width=\"24px\">\n",
              "    <path d=\"M0 0h24v24H0V0z\" fill=\"none\"/>\n",
              "    <path d=\"M18.56 5.44l.94 2.06.94-2.06 2.06-.94-2.06-.94-.94-2.06-.94 2.06-2.06.94zm-11 1L8.5 8.5l.94-2.06 2.06-.94-2.06-.94L8.5 2.5l-.94 2.06-2.06.94zm10 10l.94 2.06.94-2.06 2.06-.94-2.06-.94-.94-2.06-.94 2.06-2.06.94z\"/><path d=\"M17.41 7.96l-1.37-1.37c-.4-.4-.92-.59-1.43-.59-.52 0-1.04.2-1.43.59L10.3 9.45l-7.72 7.72c-.78.78-.78 2.05 0 2.83L4 21.41c.39.39.9.59 1.41.59.51 0 1.02-.2 1.41-.59l7.78-7.78 2.81-2.81c.8-.78.8-2.07 0-2.86zM5.41 20L4 18.59l7.72-7.72 1.47 1.35L5.41 20z\"/>\n",
              "  </svg>\n",
              "      </button>\n",
              "      \n",
              "  <style>\n",
              "    .colab-df-container {\n",
              "      display:flex;\n",
              "      flex-wrap:wrap;\n",
              "      gap: 12px;\n",
              "    }\n",
              "\n",
              "    .colab-df-convert {\n",
              "      background-color: #E8F0FE;\n",
              "      border: none;\n",
              "      border-radius: 50%;\n",
              "      cursor: pointer;\n",
              "      display: none;\n",
              "      fill: #1967D2;\n",
              "      height: 32px;\n",
              "      padding: 0 0 0 0;\n",
              "      width: 32px;\n",
              "    }\n",
              "\n",
              "    .colab-df-convert:hover {\n",
              "      background-color: #E2EBFA;\n",
              "      box-shadow: 0px 1px 2px rgba(60, 64, 67, 0.3), 0px 1px 3px 1px rgba(60, 64, 67, 0.15);\n",
              "      fill: #174EA6;\n",
              "    }\n",
              "\n",
              "    [theme=dark] .colab-df-convert {\n",
              "      background-color: #3B4455;\n",
              "      fill: #D2E3FC;\n",
              "    }\n",
              "\n",
              "    [theme=dark] .colab-df-convert:hover {\n",
              "      background-color: #434B5C;\n",
              "      box-shadow: 0px 1px 3px 1px rgba(0, 0, 0, 0.15);\n",
              "      filter: drop-shadow(0px 1px 2px rgba(0, 0, 0, 0.3));\n",
              "      fill: #FFFFFF;\n",
              "    }\n",
              "  </style>\n",
              "\n",
              "      <script>\n",
              "        const buttonEl =\n",
              "          document.querySelector('#df-b7d54ec3-f911-409b-95b3-259ffea54cd4 button.colab-df-convert');\n",
              "        buttonEl.style.display =\n",
              "          google.colab.kernel.accessAllowed ? 'block' : 'none';\n",
              "\n",
              "        async function convertToInteractive(key) {\n",
              "          const element = document.querySelector('#df-b7d54ec3-f911-409b-95b3-259ffea54cd4');\n",
              "          const dataTable =\n",
              "            await google.colab.kernel.invokeFunction('convertToInteractive',\n",
              "                                                     [key], {});\n",
              "          if (!dataTable) return;\n",
              "\n",
              "          const docLinkHtml = 'Like what you see? Visit the ' +\n",
              "            '<a target=\"_blank\" href=https://colab.research.google.com/notebooks/data_table.ipynb>data table notebook</a>'\n",
              "            + ' to learn more about interactive tables.';\n",
              "          element.innerHTML = '';\n",
              "          dataTable['output_type'] = 'display_data';\n",
              "          await google.colab.output.renderOutput(dataTable, element);\n",
              "          const docLink = document.createElement('div');\n",
              "          docLink.innerHTML = docLinkHtml;\n",
              "          element.appendChild(docLink);\n",
              "        }\n",
              "      </script>\n",
              "    </div>\n",
              "  </div>\n",
              "  "
            ]
          },
          "metadata": {},
          "execution_count": 4
        }
      ]
    },
    {
      "cell_type": "code",
      "source": [
        "len(df.columns)"
      ],
      "metadata": {
        "colab": {
          "base_uri": "https://localhost:8080/"
        },
        "id": "ayvHerrW2qBa",
        "outputId": "6c14654f-e581-4571-e0d3-e1d82456ac29"
      },
      "execution_count": 5,
      "outputs": [
        {
          "output_type": "execute_result",
          "data": {
            "text/plain": [
              "11"
            ]
          },
          "metadata": {},
          "execution_count": 5
        }
      ]
    },
    {
      "cell_type": "code",
      "source": [
        "len(df)"
      ],
      "metadata": {
        "colab": {
          "base_uri": "https://localhost:8080/"
        },
        "id": "me3Jgs8V2ti4",
        "outputId": "7941dfa2-9dff-486f-bc14-f24b9ff07460"
      },
      "execution_count": 6,
      "outputs": [
        {
          "output_type": "execute_result",
          "data": {
            "text/plain": [
              "308"
            ]
          },
          "metadata": {},
          "execution_count": 6
        }
      ]
    },
    {
      "cell_type": "code",
      "source": [
        "df.dtypes"
      ],
      "metadata": {
        "colab": {
          "base_uri": "https://localhost:8080/"
        },
        "id": "X5Lz7YL02wtI",
        "outputId": "fdb93e75-e3cc-40f7-ee69-e64d6718786c"
      },
      "execution_count": 7,
      "outputs": [
        {
          "output_type": "execute_result",
          "data": {
            "text/plain": [
              "Year          int64\n",
              "Month         int64\n",
              "MEI         float64\n",
              "CO2         float64\n",
              "CH4         float64\n",
              "N2O         float64\n",
              "CFC-11      float64\n",
              "CFC-12      float64\n",
              "TSI         float64\n",
              "Aerosols    float64\n",
              "Temp        float64\n",
              "dtype: object"
            ]
          },
          "metadata": {},
          "execution_count": 7
        }
      ]
    },
    {
      "cell_type": "code",
      "source": [
        "df.describe()"
      ],
      "metadata": {
        "colab": {
          "base_uri": "https://localhost:8080/",
          "height": 364
        },
        "id": "W2sy-1fq6mOX",
        "outputId": "8ba14eef-5eb3-4601-d971-5e865a5380b9"
      },
      "execution_count": 8,
      "outputs": [
        {
          "output_type": "execute_result",
          "data": {
            "text/plain": [
              "              Year       Month         MEI         CO2          CH4  \\\n",
              "count   308.000000  308.000000  308.000000  308.000000   308.000000   \n",
              "mean   1995.662338    6.551948    0.275555  363.226753  1749.824513   \n",
              "std       7.423197    3.447214    0.937918   12.647125    46.051678   \n",
              "min    1983.000000    1.000000   -1.635000  340.170000  1629.890000   \n",
              "25%    1989.000000    4.000000   -0.398750  353.020000  1722.182500   \n",
              "50%    1996.000000    7.000000    0.237500  361.735000  1764.040000   \n",
              "75%    2002.000000   10.000000    0.830500  373.455000  1786.885000   \n",
              "max    2008.000000   12.000000    3.001000  388.500000  1814.180000   \n",
              "\n",
              "              N2O      CFC-11      CFC-12          TSI    Aerosols        Temp  \n",
              "count  308.000000  308.000000  308.000000   308.000000  308.000000  308.000000  \n",
              "mean   312.391834  251.973068  497.524782  1366.070759    0.016657    0.256776  \n",
              "std      5.225131   20.231783   57.826899     0.399610    0.029050    0.179090  \n",
              "min    303.677000  191.324000  350.113000  1365.426100    0.001600   -0.282000  \n",
              "25%    308.111500  246.295500  472.410750  1365.717050    0.002800    0.121750  \n",
              "50%    311.507000  258.344000  528.356000  1365.980900    0.005750    0.248000  \n",
              "75%    316.979000  267.031000  540.524250  1366.363250    0.012600    0.407250  \n",
              "max    322.182000  271.494000  543.813000  1367.316200    0.149400    0.739000  "
            ],
            "text/html": [
              "\n",
              "  <div id=\"df-212af567-b3bc-4091-b8d0-769f7fe7079e\">\n",
              "    <div class=\"colab-df-container\">\n",
              "      <div>\n",
              "<style scoped>\n",
              "    .dataframe tbody tr th:only-of-type {\n",
              "        vertical-align: middle;\n",
              "    }\n",
              "\n",
              "    .dataframe tbody tr th {\n",
              "        vertical-align: top;\n",
              "    }\n",
              "\n",
              "    .dataframe thead th {\n",
              "        text-align: right;\n",
              "    }\n",
              "</style>\n",
              "<table border=\"1\" class=\"dataframe\">\n",
              "  <thead>\n",
              "    <tr style=\"text-align: right;\">\n",
              "      <th></th>\n",
              "      <th>Year</th>\n",
              "      <th>Month</th>\n",
              "      <th>MEI</th>\n",
              "      <th>CO2</th>\n",
              "      <th>CH4</th>\n",
              "      <th>N2O</th>\n",
              "      <th>CFC-11</th>\n",
              "      <th>CFC-12</th>\n",
              "      <th>TSI</th>\n",
              "      <th>Aerosols</th>\n",
              "      <th>Temp</th>\n",
              "    </tr>\n",
              "  </thead>\n",
              "  <tbody>\n",
              "    <tr>\n",
              "      <th>count</th>\n",
              "      <td>308.000000</td>\n",
              "      <td>308.000000</td>\n",
              "      <td>308.000000</td>\n",
              "      <td>308.000000</td>\n",
              "      <td>308.000000</td>\n",
              "      <td>308.000000</td>\n",
              "      <td>308.000000</td>\n",
              "      <td>308.000000</td>\n",
              "      <td>308.000000</td>\n",
              "      <td>308.000000</td>\n",
              "      <td>308.000000</td>\n",
              "    </tr>\n",
              "    <tr>\n",
              "      <th>mean</th>\n",
              "      <td>1995.662338</td>\n",
              "      <td>6.551948</td>\n",
              "      <td>0.275555</td>\n",
              "      <td>363.226753</td>\n",
              "      <td>1749.824513</td>\n",
              "      <td>312.391834</td>\n",
              "      <td>251.973068</td>\n",
              "      <td>497.524782</td>\n",
              "      <td>1366.070759</td>\n",
              "      <td>0.016657</td>\n",
              "      <td>0.256776</td>\n",
              "    </tr>\n",
              "    <tr>\n",
              "      <th>std</th>\n",
              "      <td>7.423197</td>\n",
              "      <td>3.447214</td>\n",
              "      <td>0.937918</td>\n",
              "      <td>12.647125</td>\n",
              "      <td>46.051678</td>\n",
              "      <td>5.225131</td>\n",
              "      <td>20.231783</td>\n",
              "      <td>57.826899</td>\n",
              "      <td>0.399610</td>\n",
              "      <td>0.029050</td>\n",
              "      <td>0.179090</td>\n",
              "    </tr>\n",
              "    <tr>\n",
              "      <th>min</th>\n",
              "      <td>1983.000000</td>\n",
              "      <td>1.000000</td>\n",
              "      <td>-1.635000</td>\n",
              "      <td>340.170000</td>\n",
              "      <td>1629.890000</td>\n",
              "      <td>303.677000</td>\n",
              "      <td>191.324000</td>\n",
              "      <td>350.113000</td>\n",
              "      <td>1365.426100</td>\n",
              "      <td>0.001600</td>\n",
              "      <td>-0.282000</td>\n",
              "    </tr>\n",
              "    <tr>\n",
              "      <th>25%</th>\n",
              "      <td>1989.000000</td>\n",
              "      <td>4.000000</td>\n",
              "      <td>-0.398750</td>\n",
              "      <td>353.020000</td>\n",
              "      <td>1722.182500</td>\n",
              "      <td>308.111500</td>\n",
              "      <td>246.295500</td>\n",
              "      <td>472.410750</td>\n",
              "      <td>1365.717050</td>\n",
              "      <td>0.002800</td>\n",
              "      <td>0.121750</td>\n",
              "    </tr>\n",
              "    <tr>\n",
              "      <th>50%</th>\n",
              "      <td>1996.000000</td>\n",
              "      <td>7.000000</td>\n",
              "      <td>0.237500</td>\n",
              "      <td>361.735000</td>\n",
              "      <td>1764.040000</td>\n",
              "      <td>311.507000</td>\n",
              "      <td>258.344000</td>\n",
              "      <td>528.356000</td>\n",
              "      <td>1365.980900</td>\n",
              "      <td>0.005750</td>\n",
              "      <td>0.248000</td>\n",
              "    </tr>\n",
              "    <tr>\n",
              "      <th>75%</th>\n",
              "      <td>2002.000000</td>\n",
              "      <td>10.000000</td>\n",
              "      <td>0.830500</td>\n",
              "      <td>373.455000</td>\n",
              "      <td>1786.885000</td>\n",
              "      <td>316.979000</td>\n",
              "      <td>267.031000</td>\n",
              "      <td>540.524250</td>\n",
              "      <td>1366.363250</td>\n",
              "      <td>0.012600</td>\n",
              "      <td>0.407250</td>\n",
              "    </tr>\n",
              "    <tr>\n",
              "      <th>max</th>\n",
              "      <td>2008.000000</td>\n",
              "      <td>12.000000</td>\n",
              "      <td>3.001000</td>\n",
              "      <td>388.500000</td>\n",
              "      <td>1814.180000</td>\n",
              "      <td>322.182000</td>\n",
              "      <td>271.494000</td>\n",
              "      <td>543.813000</td>\n",
              "      <td>1367.316200</td>\n",
              "      <td>0.149400</td>\n",
              "      <td>0.739000</td>\n",
              "    </tr>\n",
              "  </tbody>\n",
              "</table>\n",
              "</div>\n",
              "      <button class=\"colab-df-convert\" onclick=\"convertToInteractive('df-212af567-b3bc-4091-b8d0-769f7fe7079e')\"\n",
              "              title=\"Convert this dataframe to an interactive table.\"\n",
              "              style=\"display:none;\">\n",
              "        \n",
              "  <svg xmlns=\"http://www.w3.org/2000/svg\" height=\"24px\"viewBox=\"0 0 24 24\"\n",
              "       width=\"24px\">\n",
              "    <path d=\"M0 0h24v24H0V0z\" fill=\"none\"/>\n",
              "    <path d=\"M18.56 5.44l.94 2.06.94-2.06 2.06-.94-2.06-.94-.94-2.06-.94 2.06-2.06.94zm-11 1L8.5 8.5l.94-2.06 2.06-.94-2.06-.94L8.5 2.5l-.94 2.06-2.06.94zm10 10l.94 2.06.94-2.06 2.06-.94-2.06-.94-.94-2.06-.94 2.06-2.06.94z\"/><path d=\"M17.41 7.96l-1.37-1.37c-.4-.4-.92-.59-1.43-.59-.52 0-1.04.2-1.43.59L10.3 9.45l-7.72 7.72c-.78.78-.78 2.05 0 2.83L4 21.41c.39.39.9.59 1.41.59.51 0 1.02-.2 1.41-.59l7.78-7.78 2.81-2.81c.8-.78.8-2.07 0-2.86zM5.41 20L4 18.59l7.72-7.72 1.47 1.35L5.41 20z\"/>\n",
              "  </svg>\n",
              "      </button>\n",
              "      \n",
              "  <style>\n",
              "    .colab-df-container {\n",
              "      display:flex;\n",
              "      flex-wrap:wrap;\n",
              "      gap: 12px;\n",
              "    }\n",
              "\n",
              "    .colab-df-convert {\n",
              "      background-color: #E8F0FE;\n",
              "      border: none;\n",
              "      border-radius: 50%;\n",
              "      cursor: pointer;\n",
              "      display: none;\n",
              "      fill: #1967D2;\n",
              "      height: 32px;\n",
              "      padding: 0 0 0 0;\n",
              "      width: 32px;\n",
              "    }\n",
              "\n",
              "    .colab-df-convert:hover {\n",
              "      background-color: #E2EBFA;\n",
              "      box-shadow: 0px 1px 2px rgba(60, 64, 67, 0.3), 0px 1px 3px 1px rgba(60, 64, 67, 0.15);\n",
              "      fill: #174EA6;\n",
              "    }\n",
              "\n",
              "    [theme=dark] .colab-df-convert {\n",
              "      background-color: #3B4455;\n",
              "      fill: #D2E3FC;\n",
              "    }\n",
              "\n",
              "    [theme=dark] .colab-df-convert:hover {\n",
              "      background-color: #434B5C;\n",
              "      box-shadow: 0px 1px 3px 1px rgba(0, 0, 0, 0.15);\n",
              "      filter: drop-shadow(0px 1px 2px rgba(0, 0, 0, 0.3));\n",
              "      fill: #FFFFFF;\n",
              "    }\n",
              "  </style>\n",
              "\n",
              "      <script>\n",
              "        const buttonEl =\n",
              "          document.querySelector('#df-212af567-b3bc-4091-b8d0-769f7fe7079e button.colab-df-convert');\n",
              "        buttonEl.style.display =\n",
              "          google.colab.kernel.accessAllowed ? 'block' : 'none';\n",
              "\n",
              "        async function convertToInteractive(key) {\n",
              "          const element = document.querySelector('#df-212af567-b3bc-4091-b8d0-769f7fe7079e');\n",
              "          const dataTable =\n",
              "            await google.colab.kernel.invokeFunction('convertToInteractive',\n",
              "                                                     [key], {});\n",
              "          if (!dataTable) return;\n",
              "\n",
              "          const docLinkHtml = 'Like what you see? Visit the ' +\n",
              "            '<a target=\"_blank\" href=https://colab.research.google.com/notebooks/data_table.ipynb>data table notebook</a>'\n",
              "            + ' to learn more about interactive tables.';\n",
              "          element.innerHTML = '';\n",
              "          dataTable['output_type'] = 'display_data';\n",
              "          await google.colab.output.renderOutput(dataTable, element);\n",
              "          const docLink = document.createElement('div');\n",
              "          docLink.innerHTML = docLinkHtml;\n",
              "          element.appendChild(docLink);\n",
              "        }\n",
              "      </script>\n",
              "    </div>\n",
              "  </div>\n",
              "  "
            ]
          },
          "metadata": {},
          "execution_count": 8
        }
      ]
    },
    {
      "cell_type": "code",
      "source": [
        "print(df.isnull().sum())"
      ],
      "metadata": {
        "colab": {
          "base_uri": "https://localhost:8080/"
        },
        "id": "4T4rKSBj20b_",
        "outputId": "128779fb-d6c8-46ef-caa7-add935c68374"
      },
      "execution_count": 9,
      "outputs": [
        {
          "output_type": "stream",
          "name": "stdout",
          "text": [
            "Year        0\n",
            "Month       0\n",
            "MEI         0\n",
            "CO2         0\n",
            "CH4         0\n",
            "N2O         0\n",
            "CFC-11      0\n",
            "CFC-12      0\n",
            "TSI         0\n",
            "Aerosols    0\n",
            "Temp        0\n",
            "dtype: int64\n"
          ]
        }
      ]
    },
    {
      "cell_type": "code",
      "source": [
        "duplicate_rows_df = df[df.duplicated()]\n",
        "print(\"number of duplicate rows: \", duplicate_rows_df.shape)"
      ],
      "metadata": {
        "colab": {
          "base_uri": "https://localhost:8080/"
        },
        "id": "Xa4gVzX824CV",
        "outputId": "1221143d-a50d-4f25-f74d-50ec3cd5a865"
      },
      "execution_count": 10,
      "outputs": [
        {
          "output_type": "stream",
          "name": "stdout",
          "text": [
            "number of duplicate rows:  (0, 11)\n"
          ]
        }
      ]
    },
    {
      "cell_type": "code",
      "source": [
        "df.hist(figsize=(15,15))\n",
        "plt.show()"
      ],
      "metadata": {
        "colab": {
          "base_uri": "https://localhost:8080/",
          "height": 882
        },
        "id": "9KwRap6y2-pA",
        "outputId": "3a5d15b0-48b6-426c-b362-744672ddec06"
      },
      "execution_count": 11,
      "outputs": [
        {
          "output_type": "display_data",
          "data": {
            "text/plain": [
              "<Figure size 1080x1080 with 12 Axes>"
            ],
            "image/png": "[encoded data removed]"
          },
          "metadata": {}
        }
      ]
    },
    {
      "cell_type": "code",
      "source": [
        "plt.figure(figsize=(10,5))\n",
        "c=df.corr()\n",
        "sns.heatmap(c,cmap=\"BrBG\",annot=True)\n",
        "c"
      ],
      "metadata": {
        "colab": {
          "base_uri": "https://localhost:8080/",
          "height": 768
        },
        "id": "d7nW1NwJ3ihR",
        "outputId": "c19f4c58-9837-4af2-9791-4363c7624b48"
      },
      "execution_count": 12,
      "outputs": [
        {
          "output_type": "execute_result",
          "data": {
            "text/plain": [
              "              Year     Month       MEI       CO2       CH4       N2O  \\\n",
              "Year      1.000000 -0.025789 -0.145345  0.985379  0.910563  0.994850   \n",
              "Month    -0.025789  1.000000 -0.016345 -0.096287  0.017558  0.012395   \n",
              "MEI      -0.145345 -0.016345  1.000000 -0.152911 -0.105555 -0.162375   \n",
              "CO2       0.985379 -0.096287 -0.152911  1.000000  0.872253  0.981135   \n",
              "CH4       0.910563  0.017558 -0.105555  0.872253  1.000000  0.894409   \n",
              "N2O       0.994850  0.012395 -0.162375  0.981135  0.894409  1.000000   \n",
              "CFC-11    0.460965 -0.014914  0.088171  0.401284  0.713504  0.412155   \n",
              "CFC-12    0.870067 -0.001084 -0.039836  0.823210  0.958237  0.839295   \n",
              "TSI       0.022353 -0.032754 -0.076826  0.017867  0.146335  0.039892   \n",
              "Aerosols -0.361884  0.014845  0.352351 -0.369265 -0.290381 -0.353499   \n",
              "Temp      0.755731 -0.098016  0.135292  0.748505  0.699697  0.743242   \n",
              "\n",
              "            CFC-11    CFC-12       TSI  Aerosols      Temp  \n",
              "Year      0.460965  0.870067  0.022353 -0.361884  0.755731  \n",
              "Month    -0.014914 -0.001084 -0.032754  0.014845 -0.098016  \n",
              "MEI       0.088171 -0.039836 -0.076826  0.352351  0.135292  \n",
              "CO2       0.401284  0.823210  0.017867 -0.369265  0.748505  \n",
              "CH4       0.713504  0.958237  0.146335 -0.290381  0.699697  \n",
              "N2O       0.412155  0.839295  0.039892 -0.353499  0.743242  \n",
              "CFC-11    1.000000  0.831381  0.284629 -0.032302  0.380111  \n",
              "CFC-12    0.831381  1.000000  0.189270 -0.243785  0.688944  \n",
              "TSI       0.284629  0.189270  1.000000  0.083238  0.182186  \n",
              "Aerosols -0.032302 -0.243785  0.083238  1.000000 -0.392069  \n",
              "Temp      0.380111  0.688944  0.182186 -0.392069  1.000000  "
            ],
            "text/html": [
              "\n",
              "  <div id=\"df-19c1f004-a452-4a99-b60e-5604bfbb01cd\">\n",
              "    <div class=\"colab-df-container\">\n",
              "      <div>\n",
              "<style scoped>\n",
              "    .dataframe tbody tr th:only-of-type {\n",
              "        vertical-align: middle;\n",
              "    }\n",
              "\n",
              "    .dataframe tbody tr th {\n",
              "        vertical-align: top;\n",
              "    }\n",
              "\n",
              "    .dataframe thead th {\n",
              "        text-align: right;\n",
              "    }\n",
              "</style>\n",
              "<table border=\"1\" class=\"dataframe\">\n",
              "  <thead>\n",
              "    <tr style=\"text-align: right;\">\n",
              "      <th></th>\n",
              "      <th>Year</th>\n",
              "      <th>Month</th>\n",
              "      <th>MEI</th>\n",
              "      <th>CO2</th>\n",
              "      <th>CH4</th>\n",
              "      <th>N2O</th>\n",
              "      <th>CFC-11</th>\n",
              "      <th>CFC-12</th>\n",
              "      <th>TSI</th>\n",
              "      <th>Aerosols</th>\n",
              "      <th>Temp</th>\n",
              "    </tr>\n",
              "  </thead>\n",
              "  <tbody>\n",
              "    <tr>\n",
              "      <th>Year</th>\n",
              "      <td>1.000000</td>\n",
              "      <td>-0.025789</td>\n",
              "      <td>-0.145345</td>\n",
              "      <td>0.985379</td>\n",
              "      <td>0.910563</td>\n",
              "      <td>0.994850</td>\n",
              "      <td>0.460965</td>\n",
              "      <td>0.870067</td>\n",
              "      <td>0.022353</td>\n",
              "      <td>-0.361884</td>\n",
              "      <td>0.755731</td>\n",
              "    </tr>\n",
              "    <tr>\n",
              "      <th>Month</th>\n",
              "      <td>-0.025789</td>\n",
              "      <td>1.000000</td>\n",
              "      <td>-0.016345</td>\n",
              "      <td>-0.096287</td>\n",
              "      <td>0.017558</td>\n",
              "      <td>0.012395</td>\n",
              "      <td>-0.014914</td>\n",
              "      <td>-0.001084</td>\n",
              "      <td>-0.032754</td>\n",
              "      <td>0.014845</td>\n",
              "      <td>-0.098016</td>\n",
              "    </tr>\n",
              "    <tr>\n",
              "      <th>MEI</th>\n",
              "      <td>-0.145345</td>\n",
              "      <td>-0.016345</td>\n",
              "      <td>1.000000</td>\n",
              "      <td>-0.152911</td>\n",
              "      <td>-0.105555</td>\n",
              "      <td>-0.162375</td>\n",
              "      <td>0.088171</td>\n",
              "      <td>-0.039836</td>\n",
              "      <td>-0.076826</td>\n",
              "      <td>0.352351</td>\n",
              "      <td>0.135292</td>\n",
              "    </tr>\n",
              "    <tr>\n",
              "      <th>CO2</th>\n",
              "      <td>0.985379</td>\n",
              "      <td>-0.096287</td>\n",
              "      <td>-0.152911</td>\n",
              "      <td>1.000000</td>\n",
              "      <td>0.872253</td>\n",
              "      <td>0.981135</td>\n",
              "      <td>0.401284</td>\n",
              "      <td>0.823210</td>\n",
              "      <td>0.017867</td>\n",
              "      <td>-0.369265</td>\n",
              "      <td>0.748505</td>\n",
              "    </tr>\n",
              "    <tr>\n",
              "      <th>CH4</th>\n",
              "      <td>0.910563</td>\n",
              "      <td>0.017558</td>\n",
              "      <td>-0.105555</td>\n",
              "      <td>0.872253</td>\n",
              "      <td>1.000000</td>\n",
              "      <td>0.894409</td>\n",
              "      <td>0.713504</td>\n",
              "      <td>0.958237</td>\n",
              "      <td>0.146335</td>\n",
              "      <td>-0.290381</td>\n",
              "      <td>0.699697</td>\n",
              "    </tr>\n",
              "    <tr>\n",
              "      <th>N2O</th>\n",
              "      <td>0.994850</td>\n",
              "      <td>0.012395</td>\n",
              "      <td>-0.162375</td>\n",
              "      <td>0.981135</td>\n",
              "      <td>0.894409</td>\n",
              "      <td>1.000000</td>\n",
              "      <td>0.412155</td>\n",
              "      <td>0.839295</td>\n",
              "      <td>0.039892</td>\n",
              "      <td>-0.353499</td>\n",
              "      <td>0.743242</td>\n",
              "    </tr>\n",
              "    <tr>\n",
              "      <th>CFC-11</th>\n",
              "      <td>0.460965</td>\n",
              "      <td>-0.014914</td>\n",
              "      <td>0.088171</td>\n",
              "      <td>0.401284</td>\n",
              "      <td>0.713504</td>\n",
              "      <td>0.412155</td>\n",
              "      <td>1.000000</td>\n",
              "      <td>0.831381</td>\n",
              "      <td>0.284629</td>\n",
              "      <td>-0.032302</td>\n",
              "      <td>0.380111</td>\n",
              "    </tr>\n",
              "    <tr>\n",
              "      <th>CFC-12</th>\n",
              "      <td>0.870067</td>\n",
              "      <td>-0.001084</td>\n",
              "      <td>-0.039836</td>\n",
              "      <td>0.823210</td>\n",
              "      <td>0.958237</td>\n",
              "      <td>0.839295</td>\n",
              "      <td>0.831381</td>\n",
              "      <td>1.000000</td>\n",
              "      <td>0.189270</td>\n",
              "      <td>-0.243785</td>\n",
              "      <td>0.688944</td>\n",
              "    </tr>\n",
              "    <tr>\n",
              "      <th>TSI</th>\n",
              "      <td>0.022353</td>\n",
              "      <td>-0.032754</td>\n",
              "      <td>-0.076826</td>\n",
              "      <td>0.017867</td>\n",
              "      <td>0.146335</td>\n",
              "      <td>0.039892</td>\n",
              "      <td>0.284629</td>\n",
              "      <td>0.189270</td>\n",
              "      <td>1.000000</td>\n",
              "      <td>0.083238</td>\n",
              "      <td>0.182186</td>\n",
              "    </tr>\n",
              "    <tr>\n",
              "      <th>Aerosols</th>\n",
              "      <td>-0.361884</td>\n",
              "      <td>0.014845</td>\n",
              "      <td>0.352351</td>\n",
              "      <td>-0.369265</td>\n",
              "      <td>-0.290381</td>\n",
              "      <td>-0.353499</td>\n",
              "      <td>-0.032302</td>\n",
              "      <td>-0.243785</td>\n",
              "      <td>0.083238</td>\n",
              "      <td>1.000000</td>\n",
              "      <td>-0.392069</td>\n",
              "    </tr>\n",
              "    <tr>\n",
              "      <th>Temp</th>\n",
              "      <td>0.755731</td>\n",
              "      <td>-0.098016</td>\n",
              "      <td>0.135292</td>\n",
              "      <td>0.748505</td>\n",
              "      <td>0.699697</td>\n",
              "      <td>0.743242</td>\n",
              "      <td>0.380111</td>\n",
              "      <td>0.688944</td>\n",
              "      <td>0.182186</td>\n",
              "      <td>-0.392069</td>\n",
              "      <td>1.000000</td>\n",
              "    </tr>\n",
              "  </tbody>\n",
              "</table>\n",
              "</div>\n",
              "      <button class=\"colab-df-convert\" onclick=\"convertToInteractive('df-19c1f004-a452-4a99-b60e-5604bfbb01cd')\"\n",
              "              title=\"Convert this dataframe to an interactive table.\"\n",
              "              style=\"display:none;\">\n",
              "        \n",
              "  <svg xmlns=\"http://www.w3.org/2000/svg\" height=\"24px\"viewBox=\"0 0 24 24\"\n",
              "       width=\"24px\">\n",
              "    <path d=\"M0 0h24v24H0V0z\" fill=\"none\"/>\n",
              "    <path d=\"M18.56 5.44l.94 2.06.94-2.06 2.06-.94-2.06-.94-.94-2.06-.94 2.06-2.06.94zm-11 1L8.5 8.5l.94-2.06 2.06-.94-2.06-.94L8.5 2.5l-.94 2.06-2.06.94zm10 10l.94 2.06.94-2.06 2.06-.94-2.06-.94-.94-2.06-.94 2.06-2.06.94z\"/><path d=\"M17.41 7.96l-1.37-1.37c-.4-.4-.92-.59-1.43-.59-.52 0-1.04.2-1.43.59L10.3 9.45l-7.72 7.72c-.78.78-.78 2.05 0 2.83L4 21.41c.39.39.9.59 1.41.59.51 0 1.02-.2 1.41-.59l7.78-7.78 2.81-2.81c.8-.78.8-2.07 0-2.86zM5.41 20L4 18.59l7.72-7.72 1.47 1.35L5.41 20z\"/>\n",
              "  </svg>\n",
              "      </button>\n",
              "      \n",
              "  <style>\n",
              "    .colab-df-container {\n",
              "      display:flex;\n",
              "      flex-wrap:wrap;\n",
              "      gap: 12px;\n",
              "    }\n",
              "\n",
              "    .colab-df-convert {\n",
              "      background-color: #E8F0FE;\n",
              "      border: none;\n",
              "      border-radius: 50%;\n",
              "      cursor: pointer;\n",
              "      display: none;\n",
              "      fill: #1967D2;\n",
              "      height: 32px;\n",
              "      padding: 0 0 0 0;\n",
              "      width: 32px;\n",
              "    }\n",
              "\n",
              "    .colab-df-convert:hover {\n",
              "      background-color: #E2EBFA;\n",
              "      box-shadow: 0px 1px 2px rgba(60, 64, 67, 0.3), 0px 1px 3px 1px rgba(60, 64, 67, 0.15);\n",
              "      fill: #174EA6;\n",
              "    }\n",
              "\n",
              "    [theme=dark] .colab-df-convert {\n",
              "      background-color: #3B4455;\n",
              "      fill: #D2E3FC;\n",
              "    }\n",
              "\n",
              "    [theme=dark] .colab-df-convert:hover {\n",
              "      background-color: #434B5C;\n",
              "      box-shadow: 0px 1px 3px 1px rgba(0, 0, 0, 0.15);\n",
              "      filter: drop-shadow(0px 1px 2px rgba(0, 0, 0, 0.3));\n",
              "      fill: #FFFFFF;\n",
              "    }\n",
              "  </style>\n",
              "\n",
              "      <script>\n",
              "        const buttonEl =\n",
              "          document.querySelector('#df-19c1f004-a452-4a99-b60e-5604bfbb01cd button.colab-df-convert');\n",
              "        buttonEl.style.display =\n",
              "          google.colab.kernel.accessAllowed ? 'block' : 'none';\n",
              "\n",
              "        async function convertToInteractive(key) {\n",
              "          const element = document.querySelector('#df-19c1f004-a452-4a99-b60e-5604bfbb01cd');\n",
              "          const dataTable =\n",
              "            await google.colab.kernel.invokeFunction('convertToInteractive',\n",
              "                                                     [key], {});\n",
              "          if (!dataTable) return;\n",
              "\n",
              "          const docLinkHtml = 'Like what you see? Visit the ' +\n",
              "            '<a target=\"_blank\" href=https://colab.research.google.com/notebooks/data_table.ipynb>data table notebook</a>'\n",
              "            + ' to learn more about interactive tables.';\n",
              "          element.innerHTML = '';\n",
              "          dataTable['output_type'] = 'display_data';\n",
              "          await google.colab.output.renderOutput(dataTable, element);\n",
              "          const docLink = document.createElement('div');\n",
              "          docLink.innerHTML = docLinkHtml;\n",
              "          element.appendChild(docLink);\n",
              "        }\n",
              "      </script>\n",
              "    </div>\n",
              "  </div>\n",
              "  "
            ]
          },
          "metadata": {},
          "execution_count": 12
        },
        {
          "output_type": "display_data",
          "data": {
            "text/plain": [
              "<Figure size 720x360 with 2 Axes>"
            ],
            "image/png": "[encoded data removed]"
          },
          "metadata": {}
        }
      ]
    },
    {
      "cell_type": "markdown",
      "source": [
        "Temp has strong correlation with CO2, CH4, N2O, CFC-12"
      ],
      "metadata": {
        "id": "9n9Ug41l_Iqt"
      }
    },
    {
      "cell_type": "code",
      "source": [
        "sns.boxplot(x=df['Year'])"
      ],
      "metadata": {
        "colab": {
          "base_uri": "https://localhost:8080/",
          "height": 302
        },
        "id": "xpQoAsu93wqe",
        "outputId": "d9eef695-d129-41b8-81f6-cec5a38df4e5"
      },
      "execution_count": 13,
      "outputs": [
        {
          "output_type": "execute_result",
          "data": {
            "text/plain": [
              "<matplotlib.axes._subplots.AxesSubplot at 0x7f135f8c33d0>"
            ]
          },
          "metadata": {},
          "execution_count": 13
        },
        {
          "output_type": "display_data",
          "data": {
            "text/plain": [
              "<Figure size 432x288 with 1 Axes>"
            ],
            "image/png": "[encoded data removed]"
          },
          "metadata": {}
        }
      ]
    },
    {
      "cell_type": "code",
      "source": [
        "sns.boxplot(x=df['Month'])"
      ],
      "metadata": {
        "colab": {
          "base_uri": "https://localhost:8080/",
          "height": 302
        },
        "id": "Ec3b5xFw312G",
        "outputId": "0eee7f29-ae0a-460c-8b9a-c6d92949fc98"
      },
      "execution_count": 14,
      "outputs": [
        {
          "output_type": "execute_result",
          "data": {
            "text/plain": [
              "<matplotlib.axes._subplots.AxesSubplot at 0x7f135e02f950>"
            ]
          },
          "metadata": {},
          "execution_count": 14
        },
        {
          "output_type": "display_data",
          "data": {
            "text/plain": [
              "<Figure size 432x288 with 1 Axes>"
            ],
            "image/png": "[encoded data removed]"
          },
          "metadata": {}
        }
      ]
    },
    {
      "cell_type": "code",
      "source": [
        "sns.boxplot(x=df['MEI'])"
      ],
      "metadata": {
        "colab": {
          "base_uri": "https://localhost:8080/",
          "height": 302
        },
        "id": "Su9B4Rad39km",
        "outputId": "1f79f6ff-aa39-4346-df38-713f2446c3eb"
      },
      "execution_count": 15,
      "outputs": [
        {
          "output_type": "execute_result",
          "data": {
            "text/plain": [
              "<matplotlib.axes._subplots.AxesSubplot at 0x7f135dface10>"
            ]
          },
          "metadata": {},
          "execution_count": 15
        },
        {
          "output_type": "display_data",
          "data": {
            "text/plain": [
              "<Figure size 432x288 with 1 Axes>"
            ],
            "image/png": "[encoded data removed]"
          },
          "metadata": {}
        }
      ]
    },
    {
      "cell_type": "code",
      "source": [
        "sns.boxplot(x=df['CO2'])"
      ],
      "metadata": {
        "colab": {
          "base_uri": "https://localhost:8080/",
          "height": 302
        },
        "id": "XHQgvCR84GmQ",
        "outputId": "6edcd511-3ac1-4fd1-b058-92a90c566d96"
      },
      "execution_count": 16,
      "outputs": [
        {
          "output_type": "execute_result",
          "data": {
            "text/plain": [
              "<matplotlib.axes._subplots.AxesSubplot at 0x7f135df6ccd0>"
            ]
          },
          "metadata": {},
          "execution_count": 16
        },
        {
          "output_type": "display_data",
          "data": {
            "text/plain": [
              "<Figure size 432x288 with 1 Axes>"
            ],
            "image/png": "[encoded data removed]"
          },
          "metadata": {}
        }
      ]
    },
    {
      "cell_type": "code",
      "source": [
        "sns.boxplot(x=df['CH4'])"
      ],
      "metadata": {
        "colab": {
          "base_uri": "https://localhost:8080/",
          "height": 302
        },
        "id": "O69KRKkz4JTJ",
        "outputId": "f59cf0fc-e0c2-409e-f4c4-b33b195fbefe"
      },
      "execution_count": 17,
      "outputs": [
        {
          "output_type": "execute_result",
          "data": {
            "text/plain": [
              "<matplotlib.axes._subplots.AxesSubplot at 0x7f135df07650>"
            ]
          },
          "metadata": {},
          "execution_count": 17
        },
        {
          "output_type": "display_data",
          "data": {
            "text/plain": [
              "<Figure size 432x288 with 1 Axes>"
            ],
            "image/png": "[encoded data removed]"
          },
          "metadata": {}
        }
      ]
    },
    {
      "cell_type": "code",
      "source": [
        "sns.boxplot(x=df['N2O'])"
      ],
      "metadata": {
        "colab": {
          "base_uri": "https://localhost:8080/",
          "height": 302
        },
        "id": "F12Gi2Kv4PM8",
        "outputId": "782de47b-680d-4c82-e47e-94a7d8e35e6b"
      },
      "execution_count": 18,
      "outputs": [
        {
          "output_type": "execute_result",
          "data": {
            "text/plain": [
              "<matplotlib.axes._subplots.AxesSubplot at 0x7f135decd790>"
            ]
          },
          "metadata": {},
          "execution_count": 18
        },
        {
          "output_type": "display_data",
          "data": {
            "text/plain": [
              "<Figure size 432x288 with 1 Axes>"
            ],
            "image/png": "[encoded data removed]"
          },
          "metadata": {}
        }
      ]
    },
    {
      "cell_type": "code",
      "source": [
        "sns.boxplot(x=df['CFC-11'])"
      ],
      "metadata": {
        "colab": {
          "base_uri": "https://localhost:8080/",
          "height": 302
        },
        "id": "Z24yNgzO4WDZ",
        "outputId": "9d393a82-d167-4f29-999e-11daf696b971"
      },
      "execution_count": 19,
      "outputs": [
        {
          "output_type": "execute_result",
          "data": {
            "text/plain": [
              "<matplotlib.axes._subplots.AxesSubplot at 0x7f135df721d0>"
            ]
          },
          "metadata": {},
          "execution_count": 19
        },
        {
          "output_type": "display_data",
          "data": {
            "text/plain": [
              "<Figure size 432x288 with 1 Axes>"
            ],
            "image/png": "[encoded data removed]"
          },
          "metadata": {}
        }
      ]
    },
    {
      "cell_type": "code",
      "source": [
        "sns.boxplot(x=df['CFC-12'])"
      ],
      "metadata": {
        "colab": {
          "base_uri": "https://localhost:8080/",
          "height": 302
        },
        "id": "wmBPMbgy4dTL",
        "outputId": "4927d997-a0b8-4193-a8ab-3e832e74e496"
      },
      "execution_count": 20,
      "outputs": [
        {
          "output_type": "execute_result",
          "data": {
            "text/plain": [
              "<matplotlib.axes._subplots.AxesSubplot at 0x7f135ddb88d0>"
            ]
          },
          "metadata": {},
          "execution_count": 20
        },
        {
          "output_type": "display_data",
          "data": {
            "text/plain": [
              "<Figure size 432x288 with 1 Axes>"
            ],
            "image/png": "[encoded data removed]"
          },
          "metadata": {}
        }
      ]
    },
    {
      "cell_type": "code",
      "source": [
        "sns.boxplot(x=df['TSI'])"
      ],
      "metadata": {
        "colab": {
          "base_uri": "https://localhost:8080/",
          "height": 302
        },
        "id": "pkueKRlP4mA3",
        "outputId": "4a3c769b-0e39-45cf-cae4-ebc4840a61eb"
      },
      "execution_count": 21,
      "outputs": [
        {
          "output_type": "execute_result",
          "data": {
            "text/plain": [
              "<matplotlib.axes._subplots.AxesSubplot at 0x7f135dd36190>"
            ]
          },
          "metadata": {},
          "execution_count": 21
        },
        {
          "output_type": "display_data",
          "data": {
            "text/plain": [
              "<Figure size 432x288 with 1 Axes>"
            ],
            "image/png": "[encoded data removed]"
          },
          "metadata": {}
        }
      ]
    },
    {
      "cell_type": "code",
      "source": [
        "sns.boxplot(x=df['Aerosols'])"
      ],
      "metadata": {
        "colab": {
          "base_uri": "https://localhost:8080/",
          "height": 302
        },
        "id": "kq-mIXBb4urz",
        "outputId": "50f5fe9f-4d69-4f91-9dee-967b511fdfd3"
      },
      "execution_count": 22,
      "outputs": [
        {
          "output_type": "execute_result",
          "data": {
            "text/plain": [
              "<matplotlib.axes._subplots.AxesSubplot at 0x7f135dd05650>"
            ]
          },
          "metadata": {},
          "execution_count": 22
        },
        {
          "output_type": "display_data",
          "data": {
            "text/plain": [
              "<Figure size 432x288 with 1 Axes>"
            ],
            "image/png": "[encoded data removed]"
          },
          "metadata": {}
        }
      ]
    },
    {
      "cell_type": "code",
      "source": [
        "sns.boxplot(x=df['Temp'])"
      ],
      "metadata": {
        "colab": {
          "base_uri": "https://localhost:8080/",
          "height": 302
        },
        "id": "e4du075M41CU",
        "outputId": "193fb9f8-754b-4f81-8228-2438122958ec"
      },
      "execution_count": 23,
      "outputs": [
        {
          "output_type": "execute_result",
          "data": {
            "text/plain": [
              "<matplotlib.axes._subplots.AxesSubplot at 0x7f135dc84210>"
            ]
          },
          "metadata": {},
          "execution_count": 23
        },
        {
          "output_type": "display_data",
          "data": {
            "text/plain": [
              "<Figure size 432x288 with 1 Axes>"
            ],
            "image/png": "[encoded data removed]"
          },
          "metadata": {}
        }
      ]
    },
    {
      "cell_type": "code",
      "source": [
        "sns.relplot(y='Temp',x='Year',data=df) #relational plot between 2 variables (same as scatterplot command)"
      ],
      "metadata": {
        "colab": {
          "base_uri": "https://localhost:8080/",
          "height": 382
        },
        "id": "TmG2UUVP5xW2",
        "outputId": "34fcaa66-55d6-418c-eba6-e2b0c93e17f4"
      },
      "execution_count": 24,
      "outputs": [
        {
          "output_type": "execute_result",
          "data": {
            "text/plain": [
              "<seaborn.axisgrid.FacetGrid at 0x7f135dbd6cd0>"
            ]
          },
          "metadata": {},
          "execution_count": 24
        },
        {
          "output_type": "display_data",
          "data": {
            "text/plain": [
              "<Figure size 360x360 with 1 Axes>"
            ],
            "image/png": "[encoded data removed]"
          },
          "metadata": {}
        }
      ]
    },
    {
      "cell_type": "code",
      "source": [
        "plt.figure(figsize=(10,10))\n",
        "sns.scatterplot(data=df, x=\"Year\", y=\"Temp\", hue=\"Month\",size=\"Month\",sizes=(20, 100), hue_norm=(0, 11), legend=\"full\")\n"
      ],
      "metadata": {
        "colab": {
          "base_uri": "https://localhost:8080/",
          "height": 628
        },
        "id": "BDwpLHQQ6Ogu",
        "outputId": "22f219df-3aee-4791-fb31-59585bb4b13f"
      },
      "execution_count": 25,
      "outputs": [
        {
          "output_type": "execute_result",
          "data": {
            "text/plain": [
              "<matplotlib.axes._subplots.AxesSubplot at 0x7f1363b1a310>"
            ]
          },
          "metadata": {},
          "execution_count": 25
        },
        {
          "output_type": "display_data",
          "data": {
            "text/plain": [
              "<Figure size 720x720 with 1 Axes>"
            ],
            "image/png": "[encoded data removed]"
          },
          "metadata": {}
        }
      ]
    },
    {
      "cell_type": "code",
      "source": [
        "plt.subplot(331)\n",
        "sns.distplot(df['Temp'])\n",
        "plt.subplot(332)\n",
        "sns.distplot(df['CO2'])\n",
        "plt.subplot(333)\n",
        "sns.distplot(df['CH4'])\n",
        "plt.subplot(334)\n",
        "sns.distplot(df['N2O'])\n",
        "plt.subplot(335)\n",
        "sns.distplot(df['CFC-12'])\n",
        "plt.subplot(336)\n",
        "sns.distplot(df['CFC-11'])\n",
        "plt.subplot(337)\n",
        "sns.distplot(df['MEI'])\n",
        "plt.subplot(338)\n",
        "sns.distplot(df['Aerosols'])\n",
        "plt.subplot(339)\n",
        "sns.distplot(df['TSI'])"
      ],
      "metadata": {
        "colab": {
          "base_uri": "https://localhost:8080/",
          "height": 635
        },
        "id": "v40ul3by-Cw-",
        "outputId": "f698c974-990d-4cae-a947-6ca7091ff034"
      },
      "execution_count": 26,
      "outputs": [
        {
          "output_type": "stream",
          "name": "stderr",
          "text": [
            "/usr/local/lib/python3.7/dist-packages/seaborn/distributions.py:2619: FutureWarning: `distplot` is a deprecated function and will be removed in a future version. Please adapt your code to use either `displot` (a figure-level function with similar flexibility) or `histplot` (an axes-level function for histograms).\n",
            "  warnings.warn(msg, FutureWarning)\n",
            "/usr/local/lib/python3.7/dist-packages/seaborn/distributions.py:2619: FutureWarning: `distplot` is a deprecated function and will be removed in a future version. Please adapt your code to use either `displot` (a figure-level function with similar flexibility) or `histplot` (an axes-level function for histograms).\n",
            "  warnings.warn(msg, FutureWarning)\n",
            "/usr/local/lib/python3.7/dist-packages/seaborn/distributions.py:2619: FutureWarning: `distplot` is a deprecated function and will be removed in a future version. Please adapt your code to use either `displot` (a figure-level function with similar flexibility) or `histplot` (an axes-level function for histograms).\n",
            "  warnings.warn(msg, FutureWarning)\n",
            "/usr/local/lib/python3.7/dist-packages/seaborn/distributions.py:2619: FutureWarning: `distplot` is a deprecated function and will be removed in a future version. Please adapt your code to use either `displot` (a figure-level function with similar flexibility) or `histplot` (an axes-level function for histograms).\n",
            "  warnings.warn(msg, FutureWarning)\n",
            "/usr/local/lib/python3.7/dist-packages/seaborn/distributions.py:2619: FutureWarning: `distplot` is a deprecated function and will be removed in a future version. Please adapt your code to use either `displot` (a figure-level function with similar flexibility) or `histplot` (an axes-level function for histograms).\n",
            "  warnings.warn(msg, FutureWarning)\n",
            "/usr/local/lib/python3.7/dist-packages/seaborn/distributions.py:2619: FutureWarning: `distplot` is a deprecated function and will be removed in a future version. Please adapt your code to use either `displot` (a figure-level function with similar flexibility) or `histplot` (an axes-level function for histograms).\n",
            "  warnings.warn(msg, FutureWarning)\n",
            "/usr/local/lib/python3.7/dist-packages/seaborn/distributions.py:2619: FutureWarning: `distplot` is a deprecated function and will be removed in a future version. Please adapt your code to use either `displot` (a figure-level function with similar flexibility) or `histplot` (an axes-level function for histograms).\n",
            "  warnings.warn(msg, FutureWarning)\n",
            "/usr/local/lib/python3.7/dist-packages/seaborn/distributions.py:2619: FutureWarning: `distplot` is a deprecated function and will be removed in a future version. Please adapt your code to use either `displot` (a figure-level function with similar flexibility) or `histplot` (an axes-level function for histograms).\n",
            "  warnings.warn(msg, FutureWarning)\n",
            "/usr/local/lib/python3.7/dist-packages/seaborn/distributions.py:2619: FutureWarning: `distplot` is a deprecated function and will be removed in a future version. Please adapt your code to use either `displot` (a figure-level function with similar flexibility) or `histplot` (an axes-level function for histograms).\n",
            "  warnings.warn(msg, FutureWarning)\n"
          ]
        },
        {
          "output_type": "execute_result",
          "data": {
            "text/plain": [
              "<matplotlib.axes._subplots.AxesSubplot at 0x7f1362a2b610>"
            ]
          },
          "metadata": {},
          "execution_count": 26
        },
        {
          "output_type": "display_data",
          "data": {
            "text/plain": [
              "<Figure size 432x288 with 9 Axes>"
            ],
            "image/png": "[encoded data removed]"
          },
          "metadata": {}
        }
      ]
    },
    {
      "cell_type": "code",
      "source": [
        "#finding inter quartile range (IQR) to remove outliers (can also be done using Z score)\n",
        "Q1 = df.quantile(0.25)\n",
        "Q3 = df.quantile(0.75)\n",
        "IQR = Q3 - Q1\n",
        "print(IQR)"
      ],
      "metadata": {
        "colab": {
          "base_uri": "https://localhost:8080/"
        },
        "id": "6HcXRTAH6KEL",
        "outputId": "05454bea-819b-4db0-8ead-14d4159ca518"
      },
      "execution_count": 27,
      "outputs": [
        {
          "output_type": "stream",
          "name": "stdout",
          "text": [
            "Year        13.00000\n",
            "Month        6.00000\n",
            "MEI          1.22925\n",
            "CO2         20.43500\n",
            "CH4         64.70250\n",
            "N2O          8.86750\n",
            "CFC-11      20.73550\n",
            "CFC-12      68.11350\n",
            "TSI          0.64620\n",
            "Aerosols     0.00980\n",
            "Temp         0.28550\n",
            "dtype: float64\n"
          ]
        }
      ]
    },
    {
      "cell_type": "code",
      "source": [
        "df = df[~((df < (Q1 - 1.5 * IQR)) |(df > (Q3 + 1.5 * IQR))).any(axis=1)]\n",
        "df.shape"
      ],
      "metadata": {
        "colab": {
          "base_uri": "https://localhost:8080/"
        },
        "id": "Al5u-C7H9cjJ",
        "outputId": "04528294-8392-4015-df4f-8e519d575a2a"
      },
      "execution_count": 28,
      "outputs": [
        {
          "output_type": "execute_result",
          "data": {
            "text/plain": [
              "(243, 11)"
            ]
          },
          "metadata": {},
          "execution_count": 28
        }
      ]
    },
    {
      "cell_type": "code",
      "source": [
        "df1 = df[ df.iloc[:,0]<=2006]  \n",
        "df1.head()"
      ],
      "metadata": {
        "colab": {
          "base_uri": "https://localhost:8080/",
          "height": 206
        },
        "id": "DrDzi4YZBgJf",
        "outputId": "77826da2-7ea3-46e5-b727-0daa09dc8fad"
      },
      "execution_count": 29,
      "outputs": [
        {
          "output_type": "execute_result",
          "data": {
            "text/plain": [
              "    Year  Month    MEI     CO2      CH4      N2O   CFC-11   CFC-12        TSI  \\\n",
              "29  1985     10 -0.140  343.08  1681.56  305.395  215.327  390.676  1365.5269   \n",
              "30  1985     11 -0.050  344.40  1680.68  305.530  216.282  392.714  1365.6289   \n",
              "31  1985     12 -0.293  345.82  1677.99  305.653  217.326  394.539  1365.6794   \n",
              "32  1986      1 -0.307  346.54  1675.82  305.775  218.382  396.082  1365.6746   \n",
              "33  1986      2 -0.191  347.13  1666.83  305.911  219.379  397.345  1365.5475   \n",
              "\n",
              "    Aerosols   Temp  \n",
              "29    0.0101 -0.008  \n",
              "30    0.0097 -0.093  \n",
              "31    0.0122 -0.002  \n",
              "32    0.0146  0.121  \n",
              "33    0.0158  0.065  "
            ],
            "text/html": [
              "\n",
              "  <div id=\"df-2ad54402-6624-40be-83a3-411b2810c171\">\n",
              "    <div class=\"colab-df-container\">\n",
              "      <div>\n",
              "<style scoped>\n",
              "    .dataframe tbody tr th:only-of-type {\n",
              "        vertical-align: middle;\n",
              "    }\n",
              "\n",
              "    .dataframe tbody tr th {\n",
              "        vertical-align: top;\n",
              "    }\n",
              "\n",
              "    .dataframe thead th {\n",
              "        text-align: right;\n",
              "    }\n",
              "</style>\n",
              "<table border=\"1\" class=\"dataframe\">\n",
              "  <thead>\n",
              "    <tr style=\"text-align: right;\">\n",
              "      <th></th>\n",
              "      <th>Year</th>\n",
              "      <th>Month</th>\n",
              "      <th>MEI</th>\n",
              "      <th>CO2</th>\n",
              "      <th>CH4</th>\n",
              "      <th>N2O</th>\n",
              "      <th>CFC-11</th>\n",
              "      <th>CFC-12</th>\n",
              "      <th>TSI</th>\n",
              "      <th>Aerosols</th>\n",
              "      <th>Temp</th>\n",
              "    </tr>\n",
              "  </thead>\n",
              "  <tbody>\n",
              "    <tr>\n",
              "      <th>29</th>\n",
              "      <td>1985</td>\n",
              "      <td>10</td>\n",
              "      <td>-0.140</td>\n",
              "      <td>343.08</td>\n",
              "      <td>1681.56</td>\n",
              "      <td>305.395</td>\n",
              "      <td>215.327</td>\n",
              "      <td>390.676</td>\n",
              "      <td>1365.5269</td>\n",
              "      <td>0.0101</td>\n",
              "      <td>-0.008</td>\n",
              "    </tr>\n",
              "    <tr>\n",
              "      <th>30</th>\n",
              "      <td>1985</td>\n",
              "      <td>11</td>\n",
              "      <td>-0.050</td>\n",
              "      <td>344.40</td>\n",
              "      <td>1680.68</td>\n",
              "      <td>305.530</td>\n",
              "      <td>216.282</td>\n",
              "      <td>392.714</td>\n",
              "      <td>1365.6289</td>\n",
              "      <td>0.0097</td>\n",
              "      <td>-0.093</td>\n",
              "    </tr>\n",
              "    <tr>\n",
              "      <th>31</th>\n",
              "      <td>1985</td>\n",
              "      <td>12</td>\n",
              "      <td>-0.293</td>\n",
              "      <td>345.82</td>\n",
              "      <td>1677.99</td>\n",
              "      <td>305.653</td>\n",
              "      <td>217.326</td>\n",
              "      <td>394.539</td>\n",
              "      <td>1365.6794</td>\n",
              "      <td>0.0122</td>\n",
              "      <td>-0.002</td>\n",
              "    </tr>\n",
              "    <tr>\n",
              "      <th>32</th>\n",
              "      <td>1986</td>\n",
              "      <td>1</td>\n",
              "      <td>-0.307</td>\n",
              "      <td>346.54</td>\n",
              "      <td>1675.82</td>\n",
              "      <td>305.775</td>\n",
              "      <td>218.382</td>\n",
              "      <td>396.082</td>\n",
              "      <td>1365.6746</td>\n",
              "      <td>0.0146</td>\n",
              "      <td>0.121</td>\n",
              "    </tr>\n",
              "    <tr>\n",
              "      <th>33</th>\n",
              "      <td>1986</td>\n",
              "      <td>2</td>\n",
              "      <td>-0.191</td>\n",
              "      <td>347.13</td>\n",
              "      <td>1666.83</td>\n",
              "      <td>305.911</td>\n",
              "      <td>219.379</td>\n",
              "      <td>397.345</td>\n",
              "      <td>1365.5475</td>\n",
              "      <td>0.0158</td>\n",
              "      <td>0.065</td>\n",
              "    </tr>\n",
              "  </tbody>\n",
              "</table>\n",
              "</div>\n",
              "      <button class=\"colab-df-convert\" onclick=\"convertToInteractive('df-2ad54402-6624-40be-83a3-411b2810c171')\"\n",
              "              title=\"Convert this dataframe to an interactive table.\"\n",
              "              style=\"display:none;\">\n",
              "        \n",
              "  <svg xmlns=\"http://www.w3.org/2000/svg\" height=\"24px\"viewBox=\"0 0 24 24\"\n",
              "       width=\"24px\">\n",
              "    <path d=\"M0 0h24v24H0V0z\" fill=\"none\"/>\n",
              "    <path d=\"M18.56 5.44l.94 2.06.94-2.06 2.06-.94-2.06-.94-.94-2.06-.94 2.06-2.06.94zm-11 1L8.5 8.5l.94-2.06 2.06-.94-2.06-.94L8.5 2.5l-.94 2.06-2.06.94zm10 10l.94 2.06.94-2.06 2.06-.94-2.06-.94-.94-2.06-.94 2.06-2.06.94z\"/><path d=\"M17.41 7.96l-1.37-1.37c-.4-.4-.92-.59-1.43-.59-.52 0-1.04.2-1.43.59L10.3 9.45l-7.72 7.72c-.78.78-.78 2.05 0 2.83L4 21.41c.39.39.9.59 1.41.59.51 0 1.02-.2 1.41-.59l7.78-7.78 2.81-2.81c.8-.78.8-2.07 0-2.86zM5.41 20L4 18.59l7.72-7.72 1.47 1.35L5.41 20z\"/>\n",
              "  </svg>\n",
              "      </button>\n",
              "      \n",
              "  <style>\n",
              "    .colab-df-container {\n",
              "      display:flex;\n",
              "      flex-wrap:wrap;\n",
              "      gap: 12px;\n",
              "    }\n",
              "\n",
              "    .colab-df-convert {\n",
              "      background-color: #E8F0FE;\n",
              "      border: none;\n",
              "      border-radius: 50%;\n",
              "      cursor: pointer;\n",
              "      display: none;\n",
              "      fill: #1967D2;\n",
              "      height: 32px;\n",
              "      padding: 0 0 0 0;\n",
              "      width: 32px;\n",
              "    }\n",
              "\n",
              "    .colab-df-convert:hover {\n",
              "      background-color: #E2EBFA;\n",
              "      box-shadow: 0px 1px 2px rgba(60, 64, 67, 0.3), 0px 1px 3px 1px rgba(60, 64, 67, 0.15);\n",
              "      fill: #174EA6;\n",
              "    }\n",
              "\n",
              "    [theme=dark] .colab-df-convert {\n",
              "      background-color: #3B4455;\n",
              "      fill: #D2E3FC;\n",
              "    }\n",
              "\n",
              "    [theme=dark] .colab-df-convert:hover {\n",
              "      background-color: #434B5C;\n",
              "      box-shadow: 0px 1px 3px 1px rgba(0, 0, 0, 0.15);\n",
              "      filter: drop-shadow(0px 1px 2px rgba(0, 0, 0, 0.3));\n",
              "      fill: #FFFFFF;\n",
              "    }\n",
              "  </style>\n",
              "\n",
              "      <script>\n",
              "        const buttonEl =\n",
              "          document.querySelector('#df-2ad54402-6624-40be-83a3-411b2810c171 button.colab-df-convert');\n",
              "        buttonEl.style.display =\n",
              "          google.colab.kernel.accessAllowed ? 'block' : 'none';\n",
              "\n",
              "        async function convertToInteractive(key) {\n",
              "          const element = document.querySelector('#df-2ad54402-6624-40be-83a3-411b2810c171');\n",
              "          const dataTable =\n",
              "            await google.colab.kernel.invokeFunction('convertToInteractive',\n",
              "                                                     [key], {});\n",
              "          if (!dataTable) return;\n",
              "\n",
              "          const docLinkHtml = 'Like what you see? Visit the ' +\n",
              "            '<a target=\"_blank\" href=https://colab.research.google.com/notebooks/data_table.ipynb>data table notebook</a>'\n",
              "            + ' to learn more about interactive tables.';\n",
              "          element.innerHTML = '';\n",
              "          dataTable['output_type'] = 'display_data';\n",
              "          await google.colab.output.renderOutput(dataTable, element);\n",
              "          const docLink = document.createElement('div');\n",
              "          docLink.innerHTML = docLinkHtml;\n",
              "          element.appendChild(docLink);\n",
              "        }\n",
              "      </script>\n",
              "    </div>\n",
              "  </div>\n",
              "  "
            ]
          },
          "metadata": {},
          "execution_count": 29
        }
      ]
    },
    {
      "cell_type": "code",
      "source": [
        "df2=df[df['Year']<=2006].reset_index(drop=True)\n",
        "df2.head()\n",
        "len(df2)\n",
        "df2.shape #df2 is training set"
      ],
      "metadata": {
        "colab": {
          "base_uri": "https://localhost:8080/"
        },
        "id": "ZhWfEwLEEgKG",
        "outputId": "d23cf856-9042-4e54-b53a-65b372fc3f09"
      },
      "execution_count": 30,
      "outputs": [
        {
          "output_type": "execute_result",
          "data": {
            "text/plain": [
              "(219, 11)"
            ]
          },
          "metadata": {},
          "execution_count": 30
        }
      ]
    },
    {
      "cell_type": "markdown",
      "source": [
        "training data set contains 219 rows \n",
        "Testing dataset contains 243-219 = 24 rows"
      ],
      "metadata": {
        "id": "g3na3vf1Fbfy"
      }
    },
    {
      "cell_type": "code",
      "source": [
        "import statsmodels.api as sm\n",
        "x = df[['MEI','CO2','CH4','N2O','CFC-11', 'CFC-12','TSI','Aerosols']]\n",
        "y = df['Temp']\n",
        "X2 = sm.add_constant(x)\n",
        "est = sm.OLS(y, X2)\n",
        "est2 = est.fit()\n",
        "print(est2.summary())"
      ],
      "metadata": {
        "colab": {
          "base_uri": "https://localhost:8080/"
        },
        "id": "DBpYEaZk7a9C",
        "outputId": "3926eab5-577e-45e2-e493-ec95d5a4447b"
      },
      "execution_count": 31,
      "outputs": [
        {
          "output_type": "stream",
          "name": "stdout",
          "text": [
            "                            OLS Regression Results                            \n",
            "==============================================================================\n",
            "Dep. Variable:                   Temp   R-squared:                       0.703\n",
            "Model:                            OLS   Adj. R-squared:                  0.692\n",
            "Method:                 Least Squares   F-statistic:                     69.11\n",
            "Date:                Tue, 05 Apr 2022   Prob (F-statistic):           2.36e-57\n",
            "Time:                        09:33:39   Log-Likelihood:                 251.36\n",
            "No. Observations:                 243   AIC:                            -484.7\n",
            "Df Residuals:                     234   BIC:                            -453.3\n",
            "Df Model:                           8                                         \n",
            "Covariance Type:            nonrobust                                         \n",
            "==============================================================================\n",
            "                 coef    std err          t      P>|t|      [0.025      0.975]\n",
            "------------------------------------------------------------------------------\n",
            "const        -60.8378     23.736     -2.563      0.011    -107.600     -14.075\n",
            "MEI            0.0665      0.007      9.650      0.000       0.053       0.080\n",
            "CO2            0.0033      0.002      1.389      0.166      -0.001       0.008\n",
            "CH4           -0.0005      0.001     -0.895      0.372      -0.002       0.001\n",
            "N2O           -0.0033      0.010     -0.319      0.750      -0.023       0.017\n",
            "CFC-11        -0.0032      0.002     -1.319      0.188      -0.008       0.002\n",
            "CFC-12         0.0027      0.001      2.173      0.031       0.000       0.005\n",
            "TSI            0.0449      0.018      2.532      0.012       0.010       0.080\n",
            "Aerosols      -8.2339      2.042     -4.032      0.000     -12.257      -4.211\n",
            "==============================================================================\n",
            "Omnibus:                        3.269   Durbin-Watson:                   1.015\n",
            "Prob(Omnibus):                  0.195   Jarque-Bera (JB):                2.996\n",
            "Skew:                           0.194   Prob(JB):                        0.224\n",
            "Kurtosis:                       3.381   Cond. No.                     9.94e+06\n",
            "==============================================================================\n",
            "\n",
            "Warnings:\n",
            "[1] Standard Errors assume that the covariance matrix of the errors is correctly specified.\n",
            "[2] The condition number is large, 9.94e+06. This might indicate that there are\n",
            "strong multicollinearity or other numerical problems.\n"
          ]
        },
        {
          "output_type": "stream",
          "name": "stderr",
          "text": [
            "/usr/local/lib/python3.7/dist-packages/statsmodels/tsa/tsatools.py:117: FutureWarning: In a future version of pandas all arguments of concat except for the argument 'objs' will be keyword-only\n",
            "  x = pd.concat(x[::order], 1)\n"
          ]
        }
      ]
    },
    {
      "cell_type": "code",
      "source": [
        "#multiple linear regression in python \n",
        "#build a linear regression model to predict the dependent variable Temp, using MEI, CO2, CH4, N2O, CFC.11, CFC.12, TSI, and Aerosols as independent variables \n",
        "#training dataset\n",
        "#x = df2[['MEI','CO2','CH4','N2O','CFC-11', 'CFC-12','TSI','Aerosols']]\n",
        "x_train = df2[['MEI','CFC-12','TSI','Aerosols']]\n",
        "y_train = df2['Temp']\n",
        "#Fitting the Multiple Linear Regression model\n",
        "from sklearn.linear_model import LinearRegression\n",
        "mlr = LinearRegression()  \n",
        "mlr.fit(x_train, y_train)\n",
        "#Intercept and Coefficient to get the regression equation\n",
        "#Regression equation=intercewpt+coeff+error\n",
        "print(\"Intercept: \", mlr.intercept_)\n",
        "print(\"Coefficients:\")\n",
        "list(zip(x, mlr.coef_))\n",
        "#testing dataset\n",
        "df3=df[df['Year']>2006].reset_index(drop=True)\n",
        "df3.head()\n",
        "len(df3)\n",
        "df3.shape \n",
        "x_test = df3[['MEI','CFC-12','TSI','Aerosols']]\n",
        "y_test = df3['Temp']\n",
        "#Prediction of test set\n",
        "y_pred_mlr= mlr.predict(x_test)\n",
        "#Predicted values\n",
        "print(\"Prediction for test set: {}\".format(y_pred_mlr))\n",
        "#Actual value and the predicted value\n",
        "mlr_diff = pd.DataFrame({'Actual value': y_test, 'Predicted value': y_pred_mlr})\n",
        "mlr_diff.head()\n",
        "#Model Evaluation\n",
        "from sklearn import metrics\n",
        "meanAbErr = metrics.mean_absolute_error(y_test, y_pred_mlr)\n",
        "meanSqErr = metrics.mean_squared_error(y_test, y_pred_mlr)\n",
        "rootMeanSqErr = np.sqrt(metrics.mean_squared_error(y_test, y_pred_mlr))\n",
        "print('R squared: {:.2f}'.format(mlr.score(x_train,y_train)*100))\n",
        "print('Mean Absolute Error:', meanAbErr)\n",
        "print('Mean Square Error:', meanSqErr)\n",
        "print('Root Mean Square Error:', rootMeanSqErr)"
      ],
      "metadata": {
        "colab": {
          "base_uri": "https://localhost:8080/"
        },
        "id": "OlzFotnz36wM",
        "outputId": "1024858e-0ffc-4046-ba3d-651615a16376"
      },
      "execution_count": 32,
      "outputs": [
        {
          "output_type": "stream",
          "name": "stdout",
          "text": [
            "Intercept:  -9.495849892205442\n",
            "Coefficients:\n",
            "Prediction for test set: [0.4072534  0.37889222 0.35701504 0.34790661 0.36846236 0.33155887\n",
            " 0.33571998 0.3240317  0.27275619 0.27584538 0.27147285 0.27454456\n",
            " 0.28800042 0.26317326 0.24851383 0.29748267 0.34039491 0.37300709\n",
            " 0.36141764 0.338665   0.30294837 0.28919484 0.2975865  0.29732251]\n",
            "R squared: 67.66\n",
            "Mean Absolute Error: 0.08354105489904644\n",
            "Mean Square Error: 0.01030196227067488\n",
            "Root Mean Square Error: 0.10149858260426536\n"
          ]
        }
      ]
    },
    {
      "cell_type": "code",
      "source": [
        "import statsmodels.api as sm\n",
        "x = df[['MEI','CO2','CH4','N2O','CFC-11', 'CFC-12','TSI','Aerosols']]\n",
        "y = df['Temp']\n",
        "X2 = sm.add_constant(x)\n",
        "est = sm.OLS(y, X2)\n",
        "est2 = est.fit()\n",
        "print(est2.summary())"
      ],
      "metadata": {
        "colab": {
          "base_uri": "https://localhost:8080/"
        },
        "id": "Hk6F3XVxHBUj",
        "outputId": "75dcd469-49e1-4ed1-976e-58f22349b60b"
      },
      "execution_count": 33,
      "outputs": [
        {
          "output_type": "stream",
          "name": "stdout",
          "text": [
            "                            OLS Regression Results                            \n",
            "==============================================================================\n",
            "Dep. Variable:                   Temp   R-squared:                       0.703\n",
            "Model:                            OLS   Adj. R-squared:                  0.692\n",
            "Method:                 Least Squares   F-statistic:                     69.11\n",
            "Date:                Tue, 05 Apr 2022   Prob (F-statistic):           2.36e-57\n",
            "Time:                        09:33:39   Log-Likelihood:                 251.36\n",
            "No. Observations:                 243   AIC:                            -484.7\n",
            "Df Residuals:                     234   BIC:                            -453.3\n",
            "Df Model:                           8                                         \n",
            "Covariance Type:            nonrobust                                         \n",
            "==============================================================================\n",
            "                 coef    std err          t      P>|t|      [0.025      0.975]\n",
            "------------------------------------------------------------------------------\n",
            "const        -60.8378     23.736     -2.563      0.011    -107.600     -14.075\n",
            "MEI            0.0665      0.007      9.650      0.000       0.053       0.080\n",
            "CO2            0.0033      0.002      1.389      0.166      -0.001       0.008\n",
            "CH4           -0.0005      0.001     -0.895      0.372      -0.002       0.001\n",
            "N2O           -0.0033      0.010     -0.319      0.750      -0.023       0.017\n",
            "CFC-11        -0.0032      0.002     -1.319      0.188      -0.008       0.002\n",
            "CFC-12         0.0027      0.001      2.173      0.031       0.000       0.005\n",
            "TSI            0.0449      0.018      2.532      0.012       0.010       0.080\n",
            "Aerosols      -8.2339      2.042     -4.032      0.000     -12.257      -4.211\n",
            "==============================================================================\n",
            "Omnibus:                        3.269   Durbin-Watson:                   1.015\n",
            "Prob(Omnibus):                  0.195   Jarque-Bera (JB):                2.996\n",
            "Skew:                           0.194   Prob(JB):                        0.224\n",
            "Kurtosis:                       3.381   Cond. No.                     9.94e+06\n",
            "==============================================================================\n",
            "\n",
            "Warnings:\n",
            "[1] Standard Errors assume that the covariance matrix of the errors is correctly specified.\n",
            "[2] The condition number is large, 9.94e+06. This might indicate that there are\n",
            "strong multicollinearity or other numerical problems.\n"
          ]
        },
        {
          "output_type": "stream",
          "name": "stderr",
          "text": [
            "/usr/local/lib/python3.7/dist-packages/statsmodels/tsa/tsatools.py:117: FutureWarning: In a future version of pandas all arguments of concat except for the argument 'objs' will be keyword-only\n",
            "  x = pd.concat(x[::order], 1)\n"
          ]
        }
      ]
    },
    {
      "cell_type": "code",
      "source": [
        "#multiple linear regression in python \n",
        "#build a linear regression model to predict the dependent variable Temp, using MEI, CO2, CH4, N2O, CFC.11, CFC.12, TSI, and Aerosols as independent variables \n",
        "#training dataset\n",
        "x = df2[['MEI','CO2','CH4','N2O','CFC-11', 'CFC-12','TSI','Aerosols']]\n",
        "y = df2['Temp']\n",
        "#Fitting the Multiple Linear Regression model\n",
        "from sklearn.linear_model import LinearRegression\n",
        "mlr = LinearRegression()  \n",
        "mlr.fit(x, y)\n",
        "#Intercept and Coefficient to get the regression equation\n",
        "#Regression equation=intercewpt+coeff+error\n",
        "print(\"Intercept: \", mlr.intercept_)\n",
        "print(\"Coefficients:\")\n",
        "list(zip(x, mlr.coef_))\n",
        "#testing dataset\n",
        "df3=df[df['Year']>2006].reset_index(drop=True)\n",
        "df3.head()\n",
        "len(df3)\n",
        "df3.shape \n",
        "x_test = df3[['MEI','CO2','CH4','N2O','CFC-11', 'CFC-12','TSI','Aerosols']]\n",
        "y_test = df3['Temp']\n",
        "#Prediction of test set\n",
        "y_pred_mlr= mlr.predict(x_test)\n",
        "#Predicted values\n",
        "print(\"Prediction for test set: {}\".format(y_pred_mlr))\n",
        "#Actual value and the predicted value\n",
        "mlr_diff = pd.DataFrame({'Actual value': y_test, 'Predicted value': y_pred_mlr})\n",
        "mlr_diff.head()\n",
        "#Model Evaluation\n",
        "from sklearn import metrics\n",
        "meanAbErr = metrics.mean_absolute_error(y_test, y_pred_mlr)\n",
        "meanSqErr = metrics.mean_squared_error(y_test, y_pred_mlr)\n",
        "rootMeanSqErr = np.sqrt(metrics.mean_squared_error(y_test, y_pred_mlr))\n",
        "print('R squared: {:.2f}'.format(mlr.score(x,y)*100))\n",
        "print('Mean Absolute Error:', meanAbErr)\n",
        "print('Mean Square Error:', meanSqErr)\n",
        "print('Root Mean Square Error:', rootMeanSqErr)"
      ],
      "metadata": {
        "colab": {
          "base_uri": "https://localhost:8080/"
        },
        "id": "KxR3bQuPG1Ln",
        "outputId": "c07692f5-b1ec-48b6-aabf-915c6f7d4b64"
      },
      "execution_count": 34,
      "outputs": [
        {
          "output_type": "stream",
          "name": "stdout",
          "text": [
            "Intercept:  -51.031969159858036\n",
            "Coefficients:\n",
            "Prediction for test set: [0.47395865 0.4503635  0.43347525 0.43430288 0.45407379 0.42558192\n",
            " 0.4256269  0.40086034 0.34299562 0.34452906 0.34506256 0.3546125\n",
            " 0.37297068 0.35481019 0.34472978 0.3962589  0.43969896 0.46681556\n",
            " 0.45350739 0.42400764 0.38408517 0.36584435 0.38171572 0.3874683 ]\n",
            "R squared: 72.19\n",
            "Mean Absolute Error: 0.07881358260266709\n",
            "Mean Square Error: 0.01062595645613692\n",
            "Root Mean Square Error: 0.10308228002977486\n"
          ]
        }
      ]
    },
    {
      "cell_type": "markdown",
      "source": [
        "We see that when we consider all the variables we get a better model (comparative R square value)\n",
        "\n",
        "R squared value: 72.19"
      ],
      "metadata": {
        "id": "ouIZ4cqnGnIh"
      }
    },
    {
      "cell_type": "markdown",
      "source": [
        "Problem 2.1 - Understanding the Model\n",
        "\n",
        "Current scientific opinion is that nitrous oxide and CFC-11 are greenhouse gases: gases that are able to trap heat from the sun and contribute to the heating of the Earth. However, the regression coefficients of both the N2O and CFC-11 variables are negative, indicating that increasing atmospheric concentrations of either of these two compounds is associated with lower global temperatures.\n",
        "\n",
        "Which of the following is the simplest correct explanation for this contradiction?\n",
        "\n",
        "I. Climate scientists are wrong that N2O and CFC-11 are greenhouse gases - this regression analysis constitutes part of a disproof.\n",
        "\n",
        "II. There is not enough data, so the regression coefficients being estimated are not accurate.\n",
        "\n",
        "III. All of the gas concentration variables reflect human development - N2O and CFC.11 are correlated with other variables in the data set.\n",
        "\n",
        "\n",
        "ANSWER: III"
      ],
      "metadata": {
        "id": "q0suGawDGhXn"
      }
    },
    {
      "cell_type": "markdown",
      "source": [
        "QUESTION 2\n",
        "\n",
        "The Pearson correlation coefficient (named for Karl Pearson) can be used to summarize the strength of the linear relationship between two data samples.The Pearson’s correlation coefficient is calculated as the covariance of the two variables divided by the product of the standard deviation of each data sample. It is the normalization of the covariance between the two variables to give an interpretable score.\n",
        "\n",
        "Compute the correlations between all the variables in the training set. Which of the following independent\n",
        "variables is N2O highly correlated with (absolute correlation greater than 0.7)? Select all that apply.\n",
        "a) MEI b) CO2 c) CH4 d) N2O e) CFC.11 f) CFC.12 g) TSI h) Aerosso (AROUND 3)"
      ],
      "metadata": {
        "id": "qstggWPfL8Ul"
      }
    },
    {
      "cell_type": "code",
      "source": [
        "from scipy.stats import pearsonr\n",
        "# Convert dataframe into series\n",
        "list1 = df2['N2O']\n",
        "list2 = df2['MEI']\n",
        " \n",
        "# Apply the pearsonr()\n",
        "corr, _ = pearsonr(list1, list2)\n",
        "print('Pearsons correlation: %.3f' % corr)"
      ],
      "metadata": {
        "colab": {
          "base_uri": "https://localhost:8080/"
        },
        "id": "DpMa4kFKIZn1",
        "outputId": "4e4cac8e-3322-4d88-c415-77480a796de7"
      },
      "execution_count": 35,
      "outputs": [
        {
          "output_type": "stream",
          "name": "stdout",
          "text": [
            "Pearsons correlation: -0.062\n"
          ]
        }
      ]
    },
    {
      "cell_type": "code",
      "source": [
        "# Convert dataframe into series\n",
        "list1 = df2['N2O']\n",
        "list2 = df2['CO2']\n",
        " \n",
        "# Apply the pearsonr()\n",
        "corr, _ = pearsonr(list1, list2)\n",
        "print('Pearsons correlation: %.3f' % corr)"
      ],
      "metadata": {
        "colab": {
          "base_uri": "https://localhost:8080/"
        },
        "id": "HA77PZCjNuA3",
        "outputId": "7a3508f4-448e-45de-bfc5-eb4c4d9d2b39"
      },
      "execution_count": 36,
      "outputs": [
        {
          "output_type": "stream",
          "name": "stdout",
          "text": [
            "Pearsons correlation: 0.975\n"
          ]
        }
      ]
    },
    {
      "cell_type": "code",
      "source": [
        "# Convert dataframe into series\n",
        "list1 = df2['N2O']\n",
        "list2 = df2['CH4']\n",
        " \n",
        "# Apply the pearsonr()\n",
        "corr, _ = pearsonr(list1, list2)\n",
        "print('Pearsons correlation: %.3f' % corr)"
      ],
      "metadata": {
        "colab": {
          "base_uri": "https://localhost:8080/"
        },
        "id": "Wg-7QlVaNSoG",
        "outputId": "4f6a34a5-d8c4-47f5-a54a-e8a422033582"
      },
      "execution_count": 37,
      "outputs": [
        {
          "output_type": "stream",
          "name": "stdout",
          "text": [
            "Pearsons correlation: 0.890\n"
          ]
        }
      ]
    },
    {
      "cell_type": "code",
      "source": [
        "# Convert dataframe into series\n",
        "list1 = df2['N2O']\n",
        "list2 = df2['N2O']\n",
        " \n",
        "# Apply the pearsonr()\n",
        "corr, _ = pearsonr(list1, list2)\n",
        "print('Pearsons correlation: %.3f' % corr)"
      ],
      "metadata": {
        "colab": {
          "base_uri": "https://localhost:8080/"
        },
        "id": "mS6q7WuaNVqw",
        "outputId": "db4cf30e-40a0-4356-dadf-c504e1057bdf"
      },
      "execution_count": 38,
      "outputs": [
        {
          "output_type": "stream",
          "name": "stdout",
          "text": [
            "Pearsons correlation: 1.000\n"
          ]
        }
      ]
    },
    {
      "cell_type": "code",
      "source": [
        "# Convert dataframe into series\n",
        "list1 = df2['N2O']\n",
        "list2 = df2['CFC-11']\n",
        " \n",
        "# Apply the pearsonr()\n",
        "corr, _ = pearsonr(list1, list2)\n",
        "print('Pearsons correlation: %.3f' % corr)"
      ],
      "metadata": {
        "colab": {
          "base_uri": "https://localhost:8080/"
        },
        "id": "jwIY4Lq7NZrl",
        "outputId": "085766d0-3ace-425f-c9f8-4eb6e4b0d8c5"
      },
      "execution_count": 39,
      "outputs": [
        {
          "output_type": "stream",
          "name": "stdout",
          "text": [
            "Pearsons correlation: 0.327\n"
          ]
        }
      ]
    },
    {
      "cell_type": "code",
      "source": [
        "# Convert dataframe into series\n",
        "list1 = df2['N2O']\n",
        "list2 = df2['CFC-12']\n",
        " \n",
        "# Apply the pearsonr()\n",
        "corr, _ = pearsonr(list1, list2)\n",
        "print('Pearsons correlation: %.3f' % corr)"
      ],
      "metadata": {
        "colab": {
          "base_uri": "https://localhost:8080/"
        },
        "id": "eplE9CbsNdrN",
        "outputId": "6d51ffc4-44aa-4147-c7aa-2323bfb93dae"
      },
      "execution_count": 40,
      "outputs": [
        {
          "output_type": "stream",
          "name": "stdout",
          "text": [
            "Pearsons correlation: 0.865\n"
          ]
        }
      ]
    },
    {
      "cell_type": "code",
      "source": [
        "# Convert dataframe into series\n",
        "list1 = df2['N2O']\n",
        "list2 = df2['TSI']\n",
        " \n",
        "# Apply the pearsonr()\n",
        "corr, _ = pearsonr(list1, list2)\n",
        "print('Pearsons correlation: %.3f' % corr)"
      ],
      "metadata": {
        "colab": {
          "base_uri": "https://localhost:8080/"
        },
        "id": "PIm8kYTXNhB9",
        "outputId": "96be95b7-332b-4cb3-8501-9b0122bbb7f1"
      },
      "execution_count": 41,
      "outputs": [
        {
          "output_type": "stream",
          "name": "stdout",
          "text": [
            "Pearsons correlation: 0.160\n"
          ]
        }
      ]
    },
    {
      "cell_type": "code",
      "source": [
        "# Convert dataframe into series\n",
        "list1 = df2['N2O']\n",
        "list2 = df2['Aerosols']\n",
        " \n",
        "# Apply the pearsonr()\n",
        "corr, _ = pearsonr(list1, list2)\n",
        "print('Pearsons correlation: %.3f' % corr)"
      ],
      "metadata": {
        "colab": {
          "base_uri": "https://localhost:8080/"
        },
        "id": "snvRgaxtNj--",
        "outputId": "e603d64b-9454-41d9-e728-16307327d45d"
      },
      "execution_count": 42,
      "outputs": [
        {
          "output_type": "stream",
          "name": "stdout",
          "text": [
            "Pearsons correlation: -0.661\n"
          ]
        }
      ]
    },
    {
      "cell_type": "markdown",
      "source": [
        "So the following independent variables are higly correlated to N2O (considering pearson's coefficient to be greater than 0.7): \n",
        "CO2, CH4, CFC-12 (and obviously N2O)"
      ],
      "metadata": {
        "id": "6gQEO6D2qTWy"
      }
    },
    {
      "cell_type": "code",
      "source": [
        "# Convert dataframe into series\n",
        "list1 = df2['CFC-11']\n",
        "list2 = df2['Aerosols']\n",
        " \n",
        "# Apply the pearsonr()\n",
        "corr, _ = pearsonr(list1, list2)\n",
        "print('Pearsons correlation: %.3f' % corr)"
      ],
      "metadata": {
        "colab": {
          "base_uri": "https://localhost:8080/"
        },
        "id": "llbFeIoiN84j",
        "outputId": "2924f2c8-9dfa-42f3-eeb9-7fe151606884"
      },
      "execution_count": 43,
      "outputs": [
        {
          "output_type": "stream",
          "name": "stdout",
          "text": [
            "Pearsons correlation: -0.231\n"
          ]
        }
      ]
    },
    {
      "cell_type": "code",
      "source": [
        "# Convert dataframe into series\n",
        "list1 = df2['CFC-11']\n",
        "list2 = df2['TSI']\n",
        " \n",
        "# Apply the pearsonr()\n",
        "corr, _ = pearsonr(list1, list2)\n",
        "print('Pearsons correlation: %.3f' % corr)"
      ],
      "metadata": {
        "colab": {
          "base_uri": "https://localhost:8080/"
        },
        "id": "3m7ZDAbAOFuj",
        "outputId": "bbc18b20-465f-4514-a829-c5f2a852f1e5"
      },
      "execution_count": 44,
      "outputs": [
        {
          "output_type": "stream",
          "name": "stdout",
          "text": [
            "Pearsons correlation: 0.257\n"
          ]
        }
      ]
    },
    {
      "cell_type": "code",
      "source": [
        "# Convert dataframe into series\n",
        "list1 = df2['CFC-11']\n",
        "list2 = df2['CFC-12']\n",
        " \n",
        "# Apply the pearsonr()\n",
        "corr, _ = pearsonr(list1, list2)\n",
        "print('Pearsons correlation: %.3f' % corr)"
      ],
      "metadata": {
        "colab": {
          "base_uri": "https://localhost:8080/"
        },
        "id": "acG4rSlWOJlJ",
        "outputId": "045b9a2f-1d4b-4f9b-d593-d91ae65234b5"
      },
      "execution_count": 45,
      "outputs": [
        {
          "output_type": "stream",
          "name": "stdout",
          "text": [
            "Pearsons correlation: 0.749\n"
          ]
        }
      ]
    },
    {
      "cell_type": "code",
      "source": [
        "# Convert dataframe into series\n",
        "list1 = df2['CFC-11']\n",
        "list2 = df2['N2O']\n",
        " \n",
        "# Apply the pearsonr()\n",
        "corr, _ = pearsonr(list1, list2)\n",
        "print('Pearsons correlation: %.3f' % corr)"
      ],
      "metadata": {
        "colab": {
          "base_uri": "https://localhost:8080/"
        },
        "id": "WusWU_fKONyu",
        "outputId": "6e55c938-edaf-4ab4-d8fb-746c5baa1603"
      },
      "execution_count": 46,
      "outputs": [
        {
          "output_type": "stream",
          "name": "stdout",
          "text": [
            "Pearsons correlation: 0.327\n"
          ]
        }
      ]
    },
    {
      "cell_type": "code",
      "source": [
        "# Convert dataframe into series\n",
        "list1 = df2['CFC-11']\n",
        "list2 = df2['CH4']\n",
        " \n",
        "# Apply the pearsonr()\n",
        "corr, _ = pearsonr(list1, list2)\n",
        "print('Pearsons correlation: %.3f' % corr)"
      ],
      "metadata": {
        "colab": {
          "base_uri": "https://localhost:8080/"
        },
        "id": "w7_o4JTMOSry",
        "outputId": "11492dca-ad03-443e-a41e-69f349badc3b"
      },
      "execution_count": 47,
      "outputs": [
        {
          "output_type": "stream",
          "name": "stdout",
          "text": [
            "Pearsons correlation: 0.628\n"
          ]
        }
      ]
    },
    {
      "cell_type": "code",
      "source": [
        "# Convert dataframe into series\n",
        "list1 = df2['CFC-11']\n",
        "list2 = df2['CO2']\n",
        " \n",
        "# Apply the pearsonr()\n",
        "corr, _ = pearsonr(list1, list2)\n",
        "print('Pearsons correlation: %.3f' % corr)"
      ],
      "metadata": {
        "colab": {
          "base_uri": "https://localhost:8080/"
        },
        "id": "WGcO5NlCOWh0",
        "outputId": "25d230f6-1f3c-4523-9c18-ab96979a6d50"
      },
      "execution_count": 48,
      "outputs": [
        {
          "output_type": "stream",
          "name": "stdout",
          "text": [
            "Pearsons correlation: 0.342\n"
          ]
        }
      ]
    },
    {
      "cell_type": "code",
      "source": [
        "# Convert dataframe into series\n",
        "list1 = df2['CFC-11']\n",
        "list2 = df2['MEI']\n",
        " \n",
        "# Apply the pearsonr()\n",
        "corr, _ = pearsonr(list1, list2)\n",
        "print('Pearsons correlation: %.3f' % corr)"
      ],
      "metadata": {
        "colab": {
          "base_uri": "https://localhost:8080/"
        },
        "id": "U0bf756QOZGQ",
        "outputId": "fc743f5d-76be-40b8-a0e1-5e8350f5e322"
      },
      "execution_count": 49,
      "outputs": [
        {
          "output_type": "stream",
          "name": "stdout",
          "text": [
            "Pearsons correlation: -0.166\n"
          ]
        }
      ]
    },
    {
      "cell_type": "markdown",
      "source": [
        "So the independent variables are higly correlated to CFC-11 is CFC-12 (and obviously CFC-11) (CH4 can also be considered as its value is near 0.7)"
      ],
      "metadata": {
        "id": "IHbFJnbDqz9J"
      }
    },
    {
      "cell_type": "markdown",
      "source": [
        "QUESTION 3 - Simplifying the Model\n",
        "\n",
        "Given that the correlations are so high, let us focus on the N2O variable and build a model with only MEI, TSI, Aerosols and N2O as independent variables. Remember to use the training set to build the model.\n",
        "(We are using variables whose correlations are high as obtained in previous questions so N2O opposed to CO2, CH4, CFC-12)\n",
        "\n",
        "Enter the coefficient of N2O in this reduced model: ______________\n",
        "\n",
        "(How does this compare to the coefficient in the previous model with all of the variables?)\n",
        "\n",
        "Enter the model R2:"
      ],
      "metadata": {
        "id": "5dFBqh6cvVEf"
      }
    },
    {
      "cell_type": "code",
      "source": [
        "import statsmodels.api as sm\n",
        "x = df[['MEI','TSI','Aerosols','N2O']]\n",
        "y = df['Temp']\n",
        "X2 = sm.add_constant(x)\n",
        "est = sm.OLS(y, X2)\n",
        "est2 = est.fit()\n",
        "print(est2.summary())"
      ],
      "metadata": {
        "colab": {
          "base_uri": "https://localhost:8080/"
        },
        "id": "F6tp1PDfETki",
        "outputId": "4be40353-021e-4a2e-bcc8-d42a166c4729"
      },
      "execution_count": 50,
      "outputs": [
        {
          "output_type": "stream",
          "name": "stdout",
          "text": [
            "                            OLS Regression Results                            \n",
            "==============================================================================\n",
            "Dep. Variable:                   Temp   R-squared:                       0.680\n",
            "Model:                            OLS   Adj. R-squared:                  0.674\n",
            "Method:                 Least Squares   F-statistic:                     126.3\n",
            "Date:                Tue, 05 Apr 2022   Prob (F-statistic):           1.18e-57\n",
            "Time:                        09:33:40   Log-Likelihood:                 242.35\n",
            "No. Observations:                 243   AIC:                            -474.7\n",
            "Df Residuals:                     238   BIC:                            -457.2\n",
            "Df Model:                           4                                         \n",
            "Covariance Type:            nonrobust                                         \n",
            "==============================================================================\n",
            "                 coef    std err          t      P>|t|      [0.025      0.975]\n",
            "------------------------------------------------------------------------------\n",
            "const        -72.1957     22.820     -3.164      0.002    -117.151     -27.240\n",
            "MEI            0.0689      0.007      9.849      0.000       0.055       0.083\n",
            "TSI            0.0486      0.017      2.937      0.004       0.016       0.081\n",
            "Aerosols      -9.0608      2.011     -4.505      0.000     -13.023      -5.098\n",
            "N2O            0.0195      0.002     11.987      0.000       0.016       0.023\n",
            "==============================================================================\n",
            "Omnibus:                        7.216   Durbin-Watson:                   0.951\n",
            "Prob(Omnibus):                  0.027   Jarque-Bera (JB):                9.132\n",
            "Skew:                           0.229   Prob(JB):                       0.0104\n",
            "Kurtosis:                       3.832   Cond. No.                     5.53e+06\n",
            "==============================================================================\n",
            "\n",
            "Warnings:\n",
            "[1] Standard Errors assume that the covariance matrix of the errors is correctly specified.\n",
            "[2] The condition number is large, 5.53e+06. This might indicate that there are\n",
            "strong multicollinearity or other numerical problems.\n"
          ]
        },
        {
          "output_type": "stream",
          "name": "stderr",
          "text": [
            "/usr/local/lib/python3.7/dist-packages/statsmodels/tsa/tsatools.py:117: FutureWarning: In a future version of pandas all arguments of concat except for the argument 'objs' will be keyword-only\n",
            "  x = pd.concat(x[::order], 1)\n"
          ]
        }
      ]
    },
    {
      "cell_type": "code",
      "source": [
        "import statsmodels.api as sm\n",
        "x = df2[['MEI','TSI','Aerosols','N2O']]\n",
        "y = df2['Temp']\n",
        "X2 = sm.add_constant(x)\n",
        "est = sm.OLS(y, X2)\n",
        "est2 = est.fit()\n",
        "print(est2.summary())"
      ],
      "metadata": {
        "colab": {
          "base_uri": "https://localhost:8080/"
        },
        "id": "L9zvhaRDFW_F",
        "outputId": "1057d40c-359e-4a28-b3ea-eddc2a5df379"
      },
      "execution_count": 58,
      "outputs": [
        {
          "output_type": "stream",
          "name": "stdout",
          "text": [
            "                            OLS Regression Results                            \n",
            "==============================================================================\n",
            "Dep. Variable:                   Temp   R-squared:                       0.706\n",
            "Model:                            OLS   Adj. R-squared:                  0.701\n",
            "Method:                 Least Squares   F-statistic:                     128.7\n",
            "Date:                Tue, 05 Apr 2022   Prob (F-statistic):           8.92e-56\n",
            "Time:                        09:36:52   Log-Likelihood:                 223.51\n",
            "No. Observations:                 219   AIC:                            -437.0\n",
            "Df Residuals:                     214   BIC:                            -420.1\n",
            "Df Model:                           4                                         \n",
            "Covariance Type:            nonrobust                                         \n",
            "==============================================================================\n",
            "                 coef    std err          t      P>|t|      [0.025      0.975]\n",
            "------------------------------------------------------------------------------\n",
            "const        -53.1366     23.146     -2.296      0.023     -98.759      -7.514\n",
            "MEI            0.0606      0.007      8.212      0.000       0.046       0.075\n",
            "TSI            0.0342      0.017      2.028      0.044       0.001       0.067\n",
            "Aerosols      -8.3714      1.995     -4.197      0.000     -12.303      -4.439\n",
            "N2O            0.0217      0.002     12.113      0.000       0.018       0.025\n",
            "==============================================================================\n",
            "Omnibus:                        9.543   Durbin-Watson:                   0.940\n",
            "Prob(Omnibus):                  0.008   Jarque-Bera (JB):               10.250\n",
            "Skew:                           0.407   Prob(JB):                      0.00595\n",
            "Kurtosis:                       3.678   Cond. No.                     5.45e+06\n",
            "==============================================================================\n",
            "\n",
            "Warnings:\n",
            "[1] Standard Errors assume that the covariance matrix of the errors is correctly specified.\n",
            "[2] The condition number is large, 5.45e+06. This might indicate that there are\n",
            "strong multicollinearity or other numerical problems.\n"
          ]
        },
        {
          "output_type": "stream",
          "name": "stderr",
          "text": [
            "/usr/local/lib/python3.7/dist-packages/statsmodels/tsa/tsatools.py:117: FutureWarning: In a future version of pandas all arguments of concat except for the argument 'objs' will be keyword-only\n",
            "  x = pd.concat(x[::order], 1)\n"
          ]
        }
      ]
    },
    {
      "cell_type": "code",
      "source": [
        "#multiple linear regression in python \n",
        "#build a linear regression model to predict the dependent variable Temp, using MEI, CO2, CH4, N2O, CFC.11, CFC.12, TSI, and Aerosols as independent variables \n",
        "#training dataset\n",
        "#x = df2[['MEI','CO2','CH4','N2O','CFC-11', 'CFC-12','TSI','Aerosols']]\n",
        "x_train = df2[['MEI','TSI','Aerosols','N2O']]\n",
        "y_train = df2['Temp']\n",
        "#Fitting the Multiple Linear Regression model\n",
        "from sklearn.linear_model import LinearRegression\n",
        "mlr = LinearRegression()  \n",
        "mlr.fit(x_train, y_train)\n",
        "#Intercept and Coefficient to get the regression equation\n",
        "#Regression equation=intercewpt+coeff+error\n",
        "print(\"Intercept: \", mlr.intercept_)\n",
        "print(\"Coefficients:\")\n",
        "list(zip(x, mlr.coef_))\n",
        "#testing dataset\n",
        "df3=df[df['Year']>2006].reset_index(drop=True)\n",
        "df3.head()\n",
        "len(df3)\n",
        "df3.shape \n",
        "x_test = df3[['MEI','TSI','Aerosols','N2O']]\n",
        "y_test = df3['Temp']\n",
        "#Prediction of test set\n",
        "y_pred_mlr= mlr.predict(x_test)\n",
        "#Predicted values\n",
        "print(\"Prediction for test set: {}\".format(y_pred_mlr))\n",
        "#Actual value and the predicted value\n",
        "mlr_diff = pd.DataFrame({'Actual value': y_test, 'Predicted value': y_pred_mlr})\n",
        "mlr_diff.head()\n",
        "#Model Evaluation\n",
        "from sklearn import metrics\n",
        "meanAbErr = metrics.mean_absolute_error(y_test, y_pred_mlr)\n",
        "meanSqErr = metrics.mean_squared_error(y_test, y_pred_mlr)\n",
        "rootMeanSqErr = np.sqrt(metrics.mean_squared_error(y_test, y_pred_mlr))\n",
        "print('R squared: {:.2f}'.format(mlr.score(x_train,y_train)*100))\n",
        "print('Mean Absolute Error:', meanAbErr)\n",
        "print('Mean Square Error:', meanSqErr)\n",
        "print('Root Mean Square Error:', rootMeanSqErr)"
      ],
      "metadata": {
        "colab": {
          "base_uri": "https://localhost:8080/"
        },
        "id": "wfzD55JuE3kl",
        "outputId": "082a2fdb-9f8b-4f16-e0cb-ab6d2e84872d"
      },
      "execution_count": 57,
      "outputs": [
        {
          "output_type": "stream",
          "name": "stdout",
          "text": [
            "Intercept:  -53.136571862980446\n",
            "Coefficients:\n",
            "Prediction for test set: [0.4994973  0.47402556 0.45350238 0.44432044 0.4591232  0.42707112\n",
            " 0.4311838  0.42411848 0.38135484 0.38933851 0.38846345 0.39489663\n",
            " 0.4093001  0.38835418 0.3726421  0.41817244 0.45693594 0.48525866\n",
            " 0.47434819 0.45574824 0.43001199 0.42539002 0.43910982 0.44125798]\n",
            "R squared: 70.63\n",
            "Mean Absolute Error: 0.09020686837753328\n",
            "Mean Square Error: 0.013717618459982634\n",
            "Root Mean Square Error: 0.117122237256563\n"
          ]
        }
      ]
    },
    {
      "cell_type": "markdown",
      "source": [
        "New coefficient of N2O is  0.0217 (earlier it was negative around -0.0033) The sign of each coefficient indicates the direction of the relationship between a predictor variable and the response variable.\n",
        "\n",
        "A positive sign indicates that as the predictor variable increases, the response variable also increases. A negative sign indicates that as the predictor variable increases, the response variable decreases"
      ],
      "metadata": {
        "id": "VfaLOo1RFNon"
      }
    },
    {
      "cell_type": "code",
      "source": [
        "import statsmodels.api as sm\n",
        "x = df[['CO2','CH4','CFC-12']]\n",
        "y = df['N2O']\n",
        "X2 = sm.add_constant(x)\n",
        "est = sm.OLS(y, X2)\n",
        "est2 = est.fit()\n",
        "print(est2.summary())"
      ],
      "metadata": {
        "colab": {
          "base_uri": "https://localhost:8080/"
        },
        "id": "baaI2N7pwACN",
        "outputId": "3ad529ac-27df-4d50-c675-a1f05ceada2a"
      },
      "execution_count": 52,
      "outputs": [
        {
          "output_type": "stream",
          "name": "stdout",
          "text": [
            "                            OLS Regression Results                            \n",
            "==============================================================================\n",
            "Dep. Variable:                    N2O   R-squared:                       0.966\n",
            "Model:                            OLS   Adj. R-squared:                  0.966\n",
            "Method:                 Least Squares   F-statistic:                     2298.\n",
            "Date:                Tue, 05 Apr 2022   Prob (F-statistic):          6.86e-176\n",
            "Time:                        09:33:40   Log-Likelihood:                -322.92\n",
            "No. Observations:                 243   AIC:                             653.8\n",
            "Df Residuals:                     239   BIC:                             667.8\n",
            "Df Model:                           3                                         \n",
            "Covariance Type:            nonrobust                                         \n",
            "==============================================================================\n",
            "                 coef    std err          t      P>|t|      [0.025      0.975]\n",
            "------------------------------------------------------------------------------\n",
            "const        136.5092      6.396     21.344      0.000     123.910     149.109\n",
            "CO2            0.3520      0.010     35.860      0.000       0.333       0.371\n",
            "CH4            0.0298      0.005      5.618      0.000       0.019       0.040\n",
            "CFC-12        -0.0086      0.004     -2.174      0.031      -0.016      -0.001\n",
            "==============================================================================\n",
            "Omnibus:                        7.114   Durbin-Watson:                   0.341\n",
            "Prob(Omnibus):                  0.029   Jarque-Bera (JB):                3.825\n",
            "Skew:                           0.011   Prob(JB):                        0.148\n",
            "Kurtosis:                       2.386   Cond. No.                     2.02e+05\n",
            "==============================================================================\n",
            "\n",
            "Warnings:\n",
            "[1] Standard Errors assume that the covariance matrix of the errors is correctly specified.\n",
            "[2] The condition number is large, 2.02e+05. This might indicate that there are\n",
            "strong multicollinearity or other numerical problems.\n"
          ]
        },
        {
          "output_type": "stream",
          "name": "stderr",
          "text": [
            "/usr/local/lib/python3.7/dist-packages/statsmodels/tsa/tsatools.py:117: FutureWarning: In a future version of pandas all arguments of concat except for the argument 'objs' will be keyword-only\n",
            "  x = pd.concat(x[::order], 1)\n"
          ]
        }
      ]
    },
    {
      "cell_type": "code",
      "source": [
        "#multiple linear regression in python \n",
        "#build a linear regression model to predict the dependent variable Temp, using MEI, CO2, CH4, N2O, CFC.11, CFC.12, TSI, and Aerosols as independent variables \n",
        "#training dataset\n",
        "#x = df2[['MEI','CO2','CH4','N2O','CFC-11', 'CFC-12','TSI','Aerosols']]\n",
        "x_train = df2[['CO2','CH4','CFC-12']]\n",
        "y_train = df2['N2O']\n",
        "#Fitting the Multiple Linear Regression model\n",
        "from sklearn.linear_model import LinearRegression\n",
        "mlr = LinearRegression()  \n",
        "mlr.fit(x_train, y_train)\n",
        "#Intercept and Coefficient to get the regression equation\n",
        "#Regression equation=intercewpt+coeff+error\n",
        "print(\"Intercept: \", mlr.intercept_)\n",
        "print(\"Coefficients:\")\n",
        "list(zip(x, mlr.coef_))\n",
        "#testing dataset\n",
        "df3=df[df['Year']>2006].reset_index(drop=True)\n",
        "df3.head()\n",
        "len(df3)\n",
        "df3.shape \n",
        "x_test = df3[['CO2','CH4','CFC-12']]\n",
        "y_test = df3['N2O']\n",
        "#Prediction of test set\n",
        "y_pred_mlr= mlr.predict(x_test)\n",
        "#Predicted values\n",
        "print(\"Prediction for test set: {}\".format(y_pred_mlr))\n",
        "#Actual value and the predicted value\n",
        "mlr_diff = pd.DataFrame({'Actual value': y_test, 'Predicted value': y_pred_mlr})\n",
        "mlr_diff.head()\n",
        "#Model Evaluation\n",
        "from sklearn import metrics\n",
        "meanAbErr = metrics.mean_absolute_error(y_test, y_pred_mlr)\n",
        "meanSqErr = metrics.mean_squared_error(y_test, y_pred_mlr)\n",
        "rootMeanSqErr = np.sqrt(metrics.mean_squared_error(y_test, y_pred_mlr))\n",
        "print('R squared: {:.2f}'.format(mlr.score(x_train,y_train)*100))\n",
        "print('Mean Absolute Error:', meanAbErr)\n",
        "print('Mean Square Error:', meanSqErr)\n",
        "print('Root Mean Square Error:', rootMeanSqErr)"
      ],
      "metadata": {
        "colab": {
          "base_uri": "https://localhost:8080/"
        },
        "id": "V9YZW_N2wmTc",
        "outputId": "f1808efc-e975-4b3b-ea09-5975f180136e"
      },
      "execution_count": 53,
      "outputs": [
        {
          "output_type": "stream",
          "name": "stdout",
          "text": [
            "Intercept:  139.85760488583014\n",
            "Coefficients:\n",
            "Prediction for test set: [320.28158093 320.68616475 320.94964309 321.56576468 321.45074184\n",
            " 320.88316161 320.06248959 319.40298671 319.43334822 319.74531591\n",
            " 320.23206191 320.79717971 321.46103706 321.38369891 321.17370411\n",
            " 321.58380693 322.16140591 321.8171164  321.05967171 320.18148939\n",
            " 320.23740246 320.73834789 321.08575041 321.59856132]\n",
            "R squared: 95.84\n",
            "Mean Absolute Error: 0.6387354544843925\n",
            "Mean Square Error: 0.5726378477687616\n",
            "Root Mean Square Error: 0.756728384408013\n"
          ]
        }
      ]
    },
    {
      "cell_type": "markdown",
      "source": [
        "ref: https://seaborn.pydata.org/generated/seaborn.scatterplot.html#seaborn.scatterplot\n",
        "\n",
        "https://towardsdatascience.com/exploratory-data-analysis-topic-that-is-neglected-in-data-science-projects-9962ae078a56 \n",
        "\n",
        "https://towardsdatascience.com/how-to-split-a-dataset-into-training-and-testing-sets-b146b1649830 \n",
        "\n",
        "https://www.codegrepper.com/code-examples/python/split+dataframe+into+train+and+test+python\n",
        "\n",
        "\n",
        "https://stackoverflow.com/questions/50865987/how-to-select-all-elements-greater-than-a-given-values-in-a-dataframe\n",
        "\n",
        "https://www.codegrepper.com/code-examples/python/split+dataframe+into+train+and+test+python\n",
        "\n",
        "https://stackoverflow.com/questions/50865987/how-to-select-all-elements-greater-than-a-given-values-in-a-dataframe\n",
        "\n",
        "\n",
        "https://realpython.com/linear-regression-in-python/\n",
        "\n",
        "\n",
        "https://machinelearningmastery.com/train-to-the-test-set-in-machine-learning/\n",
        "\n",
        "\n",
        "https://stackabuse.com/linear-regression-in-python-with-scikit-learn/\n",
        "\n",
        "https://indianpythonista.wordpress.com/2017/03/14/linear-regression/\n",
        "\n",
        "https://medium.com/machine-learning-with-python/multiple-linear-regression-implementation-in-python-2de9b303fc0c\n",
        "\n",
        "https://stackoverflow.com/questions/27928275/find-p-value-significance-in-scikit-learn-linearregression\n",
        "\n",
        "https://statisticsbyjim.com/regression/interpret-coefficients-p-values-regression/"
      ],
      "metadata": {
        "id": "z1Yy2QJ99tlQ"
      }
    }
  ]
}